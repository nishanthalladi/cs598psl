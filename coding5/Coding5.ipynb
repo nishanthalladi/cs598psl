{
 "cells": [
  {
   "cell_type": "markdown",
   "id": "ad1e743e",
   "metadata": {},
   "source": [
    "# Coding 5\n",
    "## Nishanth Alladi (nalladi2), Davy Ji (davyji2), Ethan Cook (elcook3)\n",
    "#### We all got on shared screen calls and worked on all parts together\n",
    "***"
   ]
  },
  {
   "cell_type": "markdown",
   "id": "d82d7136",
   "metadata": {},
   "source": [
    "### Load libraries, set seed"
   ]
  },
  {
   "cell_type": "code",
   "execution_count": 1,
   "id": "b9e58a77",
   "metadata": {},
   "outputs": [],
   "source": [
    "import numpy as np\n",
    "import csv\n",
    "import pandas as pd\n",
    "np.random.seed(1776)"
   ]
  },
  {
   "cell_type": "markdown",
   "id": "21a63121",
   "metadata": {},
   "source": [
    "### Load train data"
   ]
  },
  {
   "cell_type": "code",
   "execution_count": 2,
   "id": "b208dc53",
   "metadata": {},
   "outputs": [],
   "source": [
    "data = [[], []]\n",
    "with open('coding5_train.csv', newline='\\n') as csvfile:\n",
    "    reader = csv.reader(csvfile, delimiter=',')\n",
    "    for row in reader:\n",
    "        data[0].append(row[:-1])\n",
    "        data[1].append(row[-1])\n",
    "X_train = np.array(data[0][1:], dtype = 'float64' )\n",
    "Y_train = np.array(data[1][1:], dtype = 'float64')\n",
    "\n",
    "# changing Y from 5 to -1, 6 to +1\n",
    "for i in range(len(Y_train)):\n",
    "    if Y_train[i] == 5:\n",
    "        Y_train[i]= -1\n",
    "    else:\n",
    "        Y_train[i]= 1"
   ]
  },
  {
   "cell_type": "markdown",
   "id": "97b5cb2e",
   "metadata": {},
   "source": [
    "### Load test data"
   ]
  },
  {
   "cell_type": "code",
   "execution_count": 3,
   "id": "b794fc48",
   "metadata": {},
   "outputs": [],
   "source": [
    "data = [[], []]\n",
    "with open('coding5_test.csv', newline='\\n') as csvfile:\n",
    "    reader = csv.reader(csvfile, delimiter=',')\n",
    "    for row in reader:\n",
    "        data[0].append(row[:-1])\n",
    "        data[1].append(row[-1])\n",
    "X_test = np.array(data[0][1:], dtype = 'float64' )\n",
    "Y_test = np.array(data[1][1:], dtype = 'float64')\n",
    "\n",
    "# changing Y from 5 to -1, 6 to +1\n",
    "for i in range(len(Y_test)):\n",
    "    if Y_test[i] == 5:\n",
    "        Y_test[i]= -1\n",
    "    else:\n",
    "        Y_test[i]= 1"
   ]
  },
  {
   "cell_type": "markdown",
   "id": "92c4deeb",
   "metadata": {},
   "source": [
    "### Implement Pegasos"
   ]
  },
  {
   "cell_type": "code",
   "execution_count": 4,
   "id": "7c52e823",
   "metadata": {},
   "outputs": [],
   "source": [
    "##### Wrong pegasos - for Davy reference\n",
    "# def pegasos(n,lam,T,X,Y): # n = S in paper?\n",
    "#     m =  X.shape[1]\n",
    "#     beta = np.zeros( m )\n",
    "#     alpha = 0\n",
    "#     for t in range(T):\n",
    "#         learning = 1. / (t+1*lam)\n",
    "#         i = np.random.choice(n, 1)[0]\n",
    "#         x, y = X[i], Y[i]\n",
    "#         if beta.dot(x)*y < 1:\n",
    "#             alpha = alpha - learning* (-y) # eq from assignment\n",
    "#             beta = (1 - learning*lam)*beta + learning*y*x # eq from paper\n",
    "#         else:\n",
    "#             alpha = alpha - learning* 0\n",
    "#             beta = (1 - learning*lam)*beta\n",
    "#     return alpha, beta"
   ]
  },
  {
   "cell_type": "code",
   "execution_count": 5,
   "id": "65d30cb1",
   "metadata": {},
   "outputs": [],
   "source": [
    "def pegasos(n,lam,T,X,Y): # n = S in paper?\n",
    "    m =  X.shape[1]\n",
    "    beta = np.zeros( m )\n",
    "    alpha = 0\n",
    "    t = 0\n",
    "    for epoch in range(T):\n",
    "        for j in range(len(Y)):\n",
    "            t += 1\n",
    "            learning = 1. / (t * lam)\n",
    "            i = np.random.choice(n, 1)[0]\n",
    "            x, y = X[i], Y[i]\n",
    "            if beta.dot(x)*y < 1:\n",
    "                alpha = alpha - learning* (-y) # eq from assignment\n",
    "                beta = (1 - learning*lam)*beta + learning*y*x # eq from paper\n",
    "            else:\n",
    "                alpha = alpha - learning* 0\n",
    "                beta = (1 - learning*lam)*beta\n",
    "    return alpha, beta"
   ]
  },
  {
   "cell_type": "markdown",
   "id": "05c6f6e9",
   "metadata": {},
   "source": [
    "### Call Pegasos"
   ]
  },
  {
   "cell_type": "code",
   "execution_count": 6,
   "id": "5f06aaee",
   "metadata": {},
   "outputs": [],
   "source": [
    "# On train data\n",
    "alpha_train, beta_train = pegasos(n=len(Y_train), lam=1, T=20, X=X_train, Y=Y_train)\n",
    "raw_y_train = X_train @ beta_train + alpha_train\n",
    "\n",
    "pred_train = np.zeros(len(raw_y_train))\n",
    "pred_train[raw_y_train >= 0] = 1\n",
    "pred_train[raw_y_train < 0] = -1\n",
    "\n",
    "# On test data\n",
    "alpha_test, beta_test = pegasos(n=len(Y_test), lam=1, T=20, X=X_test, Y=Y_test)\n",
    "raw_y_test = X_test @ beta_test + alpha_test\n",
    "\n",
    "pred_test = np.zeros(len(raw_y_test))\n",
    "pred_test[raw_y_test >= 0] = 1\n",
    "pred_test[raw_y_test < 0] = -1"
   ]
  },
  {
   "cell_type": "markdown",
   "id": "88964dfb",
   "metadata": {},
   "source": [
    "### Calculate Accuracy and Confusion Matrix"
   ]
  },
  {
   "cell_type": "code",
   "execution_count": 7,
   "id": "4492956b",
   "metadata": {},
   "outputs": [
    {
     "name": "stdout",
     "output_type": "stream",
     "text": [
      "Train Accuracy:\t0.945\n",
      "Test Accuracy:\t0.9366666666666666\n"
     ]
    }
   ],
   "source": [
    "# Train Accuracy\n",
    "print(\"Train Accuracy:\\t\" + str(np.sum(pred_train == Y_train) / len(Y_train)))\n",
    "\n",
    "# Test Accuracy\n",
    "print(\"Test Accuracy:\\t\" + str(np.sum(pred_test == Y_test) / len(Y_test)))"
   ]
  },
  {
   "cell_type": "code",
   "execution_count": 8,
   "id": "04881ffb",
   "metadata": {},
   "outputs": [
    {
     "name": "stdout",
     "output_type": "stream",
     "text": [
      "TRAIN CONFUSION MATRIX\n",
      "\t\t\tactuals:\n",
      "\t\t\t6 (pos)\t5 (neg)\n",
      "predictions:\t6 (pos)\t89\t0\n",
      "\t\t5 (neg)\t11\t100\n"
     ]
    }
   ],
   "source": [
    "# Train Confusion Matrix\n",
    "tp = 0\n",
    "tn = 0\n",
    "fp = 0\n",
    "fn = 0\n",
    "for i in range(len(Y_train)):\n",
    "    if Y_train[i] == pred_train[i]:\n",
    "        if pred_train[i] == 1:\n",
    "            tp += 1\n",
    "        elif pred_train[i] == -1:\n",
    "            tn += 1\n",
    "    else:\n",
    "        if pred_train[i] == 1:\n",
    "            fp += 1\n",
    "        elif pred_train[i] == -1:\n",
    "            fn += 1\n",
    "    \n",
    "print(\"TRAIN CONFUSION MATRIX\")\n",
    "print(\"\\t\\t\\tactuals:\")\n",
    "print(\"\\t\\t\\t6 (pos)\\t5 (neg)\")\n",
    "print(\"predictions:\\t6 (pos)\\t\" + str(tp) + \"\\t\" + str(fp))\n",
    "print(\"\\t\\t5 (neg)\\t\" + str(fn) + \"\\t\" + str(tn))"
   ]
  },
  {
   "cell_type": "code",
   "execution_count": 9,
   "id": "7275f20b",
   "metadata": {},
   "outputs": [
    {
     "name": "stdout",
     "output_type": "stream",
     "text": [
      "TEST CONFUSION MATRIX\n",
      "\t\t\tactuals:\n",
      "\t\t\t6 (pos)\t5 (neg)\n",
      "predictions:\t6 (pos)\t262\t0\n",
      "\t\t5 (neg)\t38\t300\n"
     ]
    }
   ],
   "source": [
    "# Test Confusion Matrix\n",
    "tp = 0\n",
    "tn = 0\n",
    "fp = 0\n",
    "fn = 0\n",
    "for i in range(len(Y_test)):\n",
    "    if Y_test[i] == pred_test[i]:\n",
    "        if pred_test[i] == 1:\n",
    "            tp += 1\n",
    "        elif pred_test[i] == -1:\n",
    "            tn += 1\n",
    "    else:\n",
    "        if pred_test[i] == 1:\n",
    "            fp += 1\n",
    "        elif pred_test[i] == -1:\n",
    "            fn += 1\n",
    "print(\"TEST CONFUSION MATRIX\")\n",
    "print(\"\\t\\t\\tactuals:\")\n",
    "print(\"\\t\\t\\t6 (pos)\\t5 (neg)\")\n",
    "print(\"predictions:\\t6 (pos)\\t\" + str(tp) + \"\\t\" + str(fp))\n",
    "print(\"\\t\\t5 (neg)\\t\" + str(fn) + \"\\t\" + str(tn))"
   ]
  }
 ],
 "metadata": {
  "kernelspec": {
   "display_name": "Python 3 (ipykernel)",
   "language": "python",
   "name": "python3"
  },
  "language_info": {
   "codemirror_mode": {
    "name": "ipython",
    "version": 3
   },
   "file_extension": ".py",
   "mimetype": "text/x-python",
   "name": "python",
   "nbconvert_exporter": "python",
   "pygments_lexer": "ipython3",
   "version": "3.11.4"
  }
 },
 "nbformat": 4,
 "nbformat_minor": 5
}
