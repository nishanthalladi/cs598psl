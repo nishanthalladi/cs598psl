{
 "cells": [
  {
   "cell_type": "code",
   "execution_count": 1,
   "id": "b9e58a77",
   "metadata": {},
   "outputs": [],
   "source": [
    "import numpy as np\n",
    "import csv\n",
    "import pandas as pd\n",
    "np.random.seed(1)"
   ]
  },
  {
   "cell_type": "code",
   "execution_count": 2,
   "id": "b208dc53",
   "metadata": {},
   "outputs": [],
   "source": [
    "data = [[], []]\n",
    "with open('coding5_train.csv', newline='\\n') as csvfile:\n",
    "    reader = csv.reader(csvfile, delimiter=',')\n",
    "    for row in reader:\n",
    "        data[0].append(row[:-1])\n",
    "        data[1].append(row[-1])\n",
    "X = np.array(data[0][1:], dtype = 'float64' )\n",
    "Y = np.array(data[1][1:], dtype = 'float64')\n",
    "\n",
    "#changing Y from 5 to -1, 6 to +1\n",
    "for i in range(len(Y)):\n",
    "    if Y[i] == 5:\n",
    "        Y[i]= -1\n",
    "    else:\n",
    "        Y[i]= 1\n",
    "#print(Y)"
   ]
  },
  {
   "cell_type": "code",
   "execution_count": 3,
   "id": "2eaced40",
   "metadata": {},
   "outputs": [],
   "source": [
    "# def pegasos(n,lam,T,x,y):\n",
    "#     beta = np.zeros((np.shape(X)[1],n))\n",
    "#     alpha = np.zeros(T+1)\n",
    "#     t = 0\n",
    "#     for t in range(1,T+1):\n",
    "#         for i in range(1, n+1): # S = n\n",
    "#             #t +=1\n",
    "#             learning = 1/(t*lam)\n",
    "#             if (y[i]*(beta.dot(x[i])+alpha[t]) < 1):\n",
    "#                 triangle = lam * beta[t] - y[i]*x[i]\n",
    "#                 delta = -y[i]\n",
    "#             else:\n",
    "#                 trangle = lam * beta[t]\n",
    "#                 delta = 0\n",
    "#             beta[t+1] = beta[t] - learning*triangle\n",
    "#             alpha[t+1] = alpha[t] - learning*delta\n",
    "#     return alpha, beta"
   ]
  },
  {
   "cell_type": "markdown",
   "id": "f243edbb",
   "metadata": {},
   "source": [
    "#### Implement Pegasos"
   ]
  },
  {
   "cell_type": "code",
   "execution_count": 4,
   "id": "7c52e823",
   "metadata": {},
   "outputs": [],
   "source": [
    "def pegasos(n,lam,T,X,Y): # n = S in paper?\n",
    "    m =  X.shape[1]\n",
    "    beta = np.zeros( m )\n",
    "    alpha = 0\n",
    "    for t in range(T):\n",
    "        learning = 1. / (t+1*lam)\n",
    "        i = np.random.choice(n, 1)[0]\n",
    "        x, y = X[i], Y[i]\n",
    "        if beta.dot(x)*y < 1:\n",
    "            alpha = alpha - learning* (-y) # eq from assignment\n",
    "            beta = (1 - learning*lam)*beta + learning*y*x # eq from paper\n",
    "        else:\n",
    "            alpha = alpha - learning* 0\n",
    "            beta = (1 - learning*lam)*beta\n",
    "    return alpha, beta"
   ]
  },
  {
   "cell_type": "code",
   "execution_count": 5,
   "id": "d43f8d5d",
   "metadata": {},
   "outputs": [],
   "source": [
    "def pegasos2(n,lam,T,X,Y): # n = S in paper?\n",
    "    m =  X.shape[1]\n",
    "    beta = np.zeros( m )\n",
    "    alpha = 0\n",
    "    for t in range(T):\n",
    "        for j in range(len(Y)):\n",
    "            i = np.random.choice(n, 1)[0]\n",
    "            learning = 1. / ((t+1)*lam)\n",
    "\n",
    "            x, y = X[i], Y[i]\n",
    "            if beta.dot(x)*y < 1:\n",
    "                alpha = alpha - learning* (-y) # eq from assignment\n",
    "                beta = (1 - learning*lam)*beta + learning*y*x # eq from paper\n",
    "            else:\n",
    "                alpha = alpha - learning* 0\n",
    "                beta = (1 - learning*lam)*beta\n",
    "    return alpha, beta"
   ]
  },
  {
   "cell_type": "markdown",
   "id": "bfd5fdd1",
   "metadata": {},
   "source": [
    "#### Call pegasos and save coefficients"
   ]
  },
  {
   "cell_type": "code",
   "execution_count": 6,
   "id": "b6d6ed1c",
   "metadata": {},
   "outputs": [],
   "source": [
    "np.random.seed(1776)\n",
    "alpha, beta = pegasos2(n=len(Y), lam=1, T=20, X=X, Y=Y)"
   ]
  },
  {
   "cell_type": "code",
   "execution_count": 7,
   "id": "5f06aaee",
   "metadata": {},
   "outputs": [],
   "source": [
    "raw_y = X @ beta + alpha\n",
    "pred_y = np.zeros(len(raw_y))\n",
    "mean_pred = np.mean(raw_y)\n",
    "pred_y[(raw_y - mean_pred) >= 0] = 1\n",
    "pred_y[(raw_y - mean_pred) < 0] = -1"
   ]
  },
  {
   "cell_type": "code",
   "execution_count": 14,
   "id": "bb2e4b88",
   "metadata": {},
   "outputs": [
    {
     "name": "stdout",
     "output_type": "stream",
     "text": [
      "avg peg1 accuracy: 0.8935000000000001\n",
      "avg peg1 accuracy: 0.90675\n",
      "acc1: 0.86,\tacc2: 0.925\n",
      "acc1: 0.96,\tacc2: 0.9\n",
      "acc1: 0.925,\tacc2: 0.95\n",
      "acc1: 0.945,\tacc2: 0.955\n",
      "acc1: 0.875,\tacc2: 0.815\n",
      "acc1: 0.825,\tacc2: 0.94\n",
      "acc1: 0.94,\tacc2: 0.89\n",
      "acc1: 0.91,\tacc2: 0.975\n",
      "acc1: 0.68,\tacc2: 0.815\n",
      "acc1: 0.97,\tacc2: 0.94\n",
      "acc1: 0.87,\tacc2: 0.9\n",
      "acc1: 0.94,\tacc2: 0.965\n",
      "acc1: 0.845,\tacc2: 0.945\n",
      "acc1: 0.945,\tacc2: 0.92\n",
      "acc1: 0.915,\tacc2: 0.86\n",
      "acc1: 0.91,\tacc2: 0.94\n",
      "acc1: 0.94,\tacc2: 0.845\n",
      "acc1: 0.93,\tacc2: 0.785\n",
      "acc1: 0.805,\tacc2: 0.92\n",
      "acc1: 0.88,\tacc2: 0.95\n"
     ]
    }
   ],
   "source": [
    "### This tests between our 2 similar pegasos implementations\n",
    "### for a bunch of different seeds, calculate pegasos and print accuracy\n",
    "accuracy_1 = []\n",
    "accuracy_2 = []\n",
    "for seed in range(0, 100, 5):\n",
    "    np.random.seed(seed)\n",
    "    mean_pred1 = 0\n",
    "    mean_pred2 = 0\n",
    "    alpha1, beta1 = pegasos(n=len(Y), lam=1, T=20, X=X, Y=Y)\n",
    "    alpha2, beta2 = pegasos(n=len(Y), lam=1, T=20, X=X, Y=Y)\n",
    "    \n",
    "    raw_y1 = X @ beta1 + alpha1\n",
    "    pred_y1 = np.zeros(len(raw_y1))\n",
    "    mean_pred1 = np.mean(raw_y1)\n",
    "    pred_y1[(raw_y1 - mean_pred1) >= 0] = 1\n",
    "    pred_y1[(raw_y1 - mean_pred1) < 0] = -1\n",
    "    accuracy_1.append(np.sum(pred_y1 == Y) / len(Y))\n",
    "    \n",
    "    raw_y2 = X @ beta2 + alpha2\n",
    "    pred_y2 = np.zeros(len(raw_y2))\n",
    "    mean_pred2 = np.mean(raw_y2)\n",
    "    pred_y2[(raw_y2 - mean_pred2) >= 0] = 1\n",
    "    pred_y2[(raw_y2 - mean_pred2) < 0] = -1\n",
    "    accuracy_2.append(np.sum(pred_y2 == Y) / len(Y))\n",
    "        \n",
    "print(\"avg peg1 accuracy: \" + str(sum(accuracy_1) / len(accuracy_1)))\n",
    "print(\"avg peg1 accuracy: \" + str(sum(accuracy_2) / len(accuracy_2)))\n",
    "for ii in range(len(accuracy_1)):\n",
    "    print(\"acc1: \" + str(accuracy_1[ii]) + \",\\tacc2: \" + str(accuracy_2[ii]))"
   ]
  },
  {
   "cell_type": "markdown",
   "id": "d52b58ea",
   "metadata": {},
   "source": [
    "#### Calculate Accuracy"
   ]
  },
  {
   "cell_type": "code",
   "execution_count": 9,
   "id": "900b37d8",
   "metadata": {},
   "outputs": [
    {
     "data": {
      "text/plain": [
       "0.965"
      ]
     },
     "execution_count": 9,
     "metadata": {},
     "output_type": "execute_result"
    }
   ],
   "source": [
    "np.sum(pred_y == Y) / len(Y)"
   ]
  },
  {
   "cell_type": "code",
   "execution_count": 10,
   "id": "032d91ee",
   "metadata": {},
   "outputs": [
    {
     "name": "stdout",
     "output_type": "stream",
     "text": [
      "-5.144294807849985\n"
     ]
    }
   ],
   "source": [
    "print(mean_pred) # this is subtracted from each prediction\n",
    "# print(raw_y)\n",
    "# print(pred_y == Y)"
   ]
  },
  {
   "cell_type": "code",
   "execution_count": null,
   "id": "11dfd696",
   "metadata": {},
   "outputs": [],
   "source": []
  }
 ],
 "metadata": {
  "kernelspec": {
   "display_name": "Python 3 (ipykernel)",
   "language": "python",
   "name": "python3"
  },
  "language_info": {
   "codemirror_mode": {
    "name": "ipython",
    "version": 3
   },
   "file_extension": ".py",
   "mimetype": "text/x-python",
   "name": "python",
   "nbconvert_exporter": "python",
   "pygments_lexer": "ipython3",
   "version": "3.11.4"
  }
 },
 "nbformat": 4,
 "nbformat_minor": 5
}
