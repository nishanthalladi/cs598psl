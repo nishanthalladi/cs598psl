{
 "cells": [
  {
   "cell_type": "code",
   "execution_count": 134,
   "id": "f4bd45df",
   "metadata": {},
   "outputs": [],
   "source": [
    "import math\n",
    "import numpy as np"
   ]
  },
  {
   "cell_type": "code",
   "execution_count": 135,
   "id": "f62de2cd",
   "metadata": {},
   "outputs": [],
   "source": [
    "def Estep(X, means, cov_mat, G):\n",
    "    # multivariate gaussian PDF\n",
    "    A, p = X.T, len(cov_mat)\n",
    "    probs = np.zeros((X.shape[0], G)) # n x g shape\n",
    "    for k, mu in enumerate(means): # exponent term\n",
    "        probs[:,k] = np.sum((np.linalg.inv(cov_mat) @ (X - mu).T) * (X - mu).T, axis=0)\n",
    "    probs = np.exp(probs * -0.5)\n",
    "    left_term = 1 / math.sqrt(np.linalg.det(cov_mat) * (2 * math.pi) ** p) \n",
    "    probs *= left_term\n",
    "    # multivariate gaussian PDF\n",
    "    return (probs / probs.sum(axis=1, keepdims=True)) + 0.00001 # normalizing"
   ]
  },
  {
   "cell_type": "code",
   "execution_count": 149,
   "id": "cd7c8f30",
   "metadata": {},
   "outputs": [],
   "source": [
    "def Mstep(probs, p, G):\n",
    "    mixture_weights = np.mean(probs, axis=0)\n",
    "    means = np.zeros((p, G))\n",
    "    for k in range(G):\n",
    "        means[:,k] = np.sum((X.T * r[:,k]).T, 0) / sum(r[:,k])\n",
    "    cov_mat = 0\n",
    "    return mixture_weights, means, cov_mat"
   ]
  },
  {
   "cell_type": "code",
   "execution_count": 196,
   "id": "6b53ebae-fa84-4b24-add8-3e61ce0ac954",
   "metadata": {},
   "outputs": [
    {
     "name": "stdout",
     "output_type": "stream",
     "text": [
      "[[ 3.6   79.   ]\n",
      " [ 1.8   54.   ]\n",
      " [ 3.333 74.   ]\n",
      " [ 2.283 62.   ]\n",
      " [ 4.533 85.   ]\n",
      " [ 2.883 55.   ]\n",
      " [ 4.7   88.   ]\n",
      " [ 3.6   85.   ]\n",
      " [ 1.95  51.   ]\n",
      " [ 4.35  85.   ]]\n"
     ]
    }
   ],
   "source": [
    "faithful = open('faithful.dat')\n",
    "temp = []\n",
    "for row in faithful:\n",
    "    temp.append(row.split()[1:])\n",
    "temp = temp[1:]\n",
    "for i in range(len(temp)):\n",
    "    for j in range(len(temp[i])):\n",
    "        temp[i][j] = float(temp[i][j])\n",
    "faithful = np.array(temp)\n",
    "dataset = faithful[:10]\n",
    "print(dataset)"
   ]
  },
  {
   "cell_type": "code",
   "execution_count": null,
   "id": "f986e6cf-b6b8-46e2-aef7-2f4e7e90dea8",
   "metadata": {},
   "outputs": [],
   "source": [
    "means = np.random.random_sample((3, 4))\n"
   ]
  }
 ],
 "metadata": {
  "kernelspec": {
   "display_name": "Python 3 (ipykernel)",
   "language": "python",
   "name": "python3"
  },
  "language_info": {
   "codemirror_mode": {
    "name": "ipython",
    "version": 3
   },
   "file_extension": ".py",
   "mimetype": "text/x-python",
   "name": "python",
   "nbconvert_exporter": "python",
   "pygments_lexer": "ipython3",
   "version": "3.9.13"
  }
 },
 "nbformat": 4,
 "nbformat_minor": 5
}
