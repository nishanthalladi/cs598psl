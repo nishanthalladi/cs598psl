{
 "cells": [
  {
   "cell_type": "markdown",
   "id": "cf580205-161d-49d1-a8df-a7ec9fc7e33b",
   "metadata": {},
   "source": [
    "netids: nalladi2, davyji2, elcook3\n",
    "\n",
    "We all got on shared screen calls and worked on all parts together"
   ]
  },
  {
   "cell_type": "code",
   "execution_count": 1,
   "id": "f4bd45df",
   "metadata": {},
   "outputs": [],
   "source": [
    "import math\n",
    "import numpy as np"
   ]
  },
  {
   "cell_type": "code",
   "execution_count": 2,
   "id": "39ecb643-6ca0-4bbc-8249-cc0eab2b46cf",
   "metadata": {},
   "outputs": [],
   "source": [
    "def mvgpdf(X, means, cov_mat, p, G):\n",
    "    # multivariate gaussian PDF\n",
    "    probs = np.zeros((X.shape[0], G)) # n x g shape\n",
    "    for k, mu in enumerate(means): # exponent term\n",
    "        probs[:,k] = np.sum((np.linalg.inv(cov_mat) @ (X - mu).T) * (X - mu).T, axis=0)\n",
    "    probs = np.exp(probs * -0.5)\n",
    "    probs /= math.sqrt(np.linalg.det(cov_mat) * (2 * math.pi) ** p)\n",
    "    return probs"
   ]
  },
  {
   "cell_type": "code",
   "execution_count": 3,
   "id": "8bdf6bb7-c47f-4b1e-a913-2af7d21d1658",
   "metadata": {},
   "outputs": [],
   "source": [
    "def loglik(X, mixture_weights, means, cov_mat, p, G):\n",
    "    probs = mvgpdf(X, means, cov_mat, p, G)\n",
    "    probs *= mixture_weights\n",
    "    probs = probs.sum(1)\n",
    "    return np.sum(np.log(probs))"
   ]
  },
  {
   "cell_type": "code",
   "execution_count": 4,
   "id": "f62de2cd",
   "metadata": {},
   "outputs": [],
   "source": [
    "def Estep(X, mixture_weights, means, cov_mat, p, G):\n",
    "    probs = mvgpdf(X, means, cov_mat, p, G)\n",
    "    probs *= mixture_weights\n",
    "    return (probs / probs.sum(axis=1, keepdims=True))"
   ]
  },
  {
   "cell_type": "code",
   "execution_count": 5,
   "id": "cd7c8f30",
   "metadata": {},
   "outputs": [],
   "source": [
    "def Mstep(X, probs, p, G):\n",
    "    mixture_weights = np.mean(probs, axis=0)\n",
    "    means = np.zeros((G, p))\n",
    "    cov_mat_num = np.zeros((p, p))\n",
    "    cov_mat_denom = 0\n",
    "    for k in range(G):\n",
    "        means[k] = np.sum((X.T * probs[:,k]).T, 0) / sum(probs[:,k])\n",
    "        tmp = X - means[k]\n",
    "        cov_mat_num += tmp.T @ np.diag(probs[:,k]) @ tmp\n",
    "        cov_mat_denom += np.sum(probs[:,k])\n",
    "    cov_mat = cov_mat_num / cov_mat_denom\n",
    "    return mixture_weights, means, cov_mat"
   ]
  },
  {
   "cell_type": "code",
   "execution_count": 6,
   "id": "35b0d8de",
   "metadata": {},
   "outputs": [],
   "source": [
    "def myEM(data, G, mixture_weights, means, cov_mat, p, itmax):\n",
    "    mixture_weights_ = mixture_weights \n",
    "    means_ = means\n",
    "    cov_mat_ = cov_mat\n",
    "    for i in range(itmax):\n",
    "        r_ = Estep(data, mixture_weights_, means_, cov_mat_, p, G)\n",
    "        mixture_weights_, means_, cov_mat_ = Mstep(data, r_, p, G)\n",
    "    return mixture_weights_, means_.T, cov_mat_, loglik(data, mixture_weights_, means_, cov_mat_, p, G)"
   ]
  },
  {
   "cell_type": "code",
   "execution_count": 7,
   "id": "6b53ebae-fa84-4b24-add8-3e61ce0ac954",
   "metadata": {},
   "outputs": [],
   "source": [
    "faithful = open('faithful.dat')\n",
    "temp = []\n",
    "for row in faithful:\n",
    "    temp.append(row.split()[1:])\n",
    "temp = temp[1:]\n",
    "for i in range(len(temp)):\n",
    "    for j in range(len(temp[i])):\n",
    "        temp[i][j] = float(temp[i][j])\n",
    "faithful = np.array(temp)"
   ]
  },
  {
   "cell_type": "code",
   "execution_count": 8,
   "id": "f986e6cf-b6b8-46e2-aef7-2f4e7e90dea8",
   "metadata": {},
   "outputs": [],
   "source": [
    "## Testing G = 2\n",
    "itmax = 20\n",
    "\n",
    "n = len(faithful)\n",
    "X = faithful\n",
    "p = 2\n",
    "G = 2\n",
    "\n",
    "p1 = 10/n\n",
    "p2 = 1 - p1\n",
    "mixture_weights = [p1, p2]\n",
    "\n",
    "mu1 = X[:10].mean(0)\n",
    "mu2 = X[10:].mean(0)\n",
    "means = np.array([mu1, mu2])\n",
    "\n",
    "cov_mat_L = sum([(X[l] - mu1).reshape((2, 1)) @ (X[l] - mu1).reshape((1, 2)) for l in range(10)])\n",
    "cov_mat_R = sum([(X[l] - mu2).reshape((2, 1)) @ (X[l] - mu2).reshape((1, 2)) for l in range(10, len(X))])\n",
    "cov_mat = (cov_mat_L + cov_mat_R) / n"
   ]
  },
  {
   "cell_type": "code",
   "execution_count": 9,
   "id": "c1551b77-02cb-4082-809b-3dbdaef75e56",
   "metadata": {},
   "outputs": [
    {
     "name": "stdout",
     "output_type": "stream",
     "text": [
      "prob\n",
      "[0.04297883 0.95702117]\n",
      "mean\n",
      "[[ 3.49564188  3.48743016]\n",
      " [76.79789154 70.63205853]]\n",
      "Sigma\n",
      "[[  1.29793612  13.92433626]\n",
      " [ 13.92433626 182.58009247]]\n",
      "loglik\n",
      "-1289.5693549424104\n"
     ]
    }
   ],
   "source": [
    "prob, mean, Sigma, loglik_val = myEM(X, G, mixture_weights, means, cov_mat, p, 20)\n",
    "\n",
    "print(\"prob\")\n",
    "print(prob)\n",
    "\n",
    "print(\"mean\")\n",
    "print(mean)\n",
    "\n",
    "print(\"Sigma\")\n",
    "print(Sigma)\n",
    "\n",
    "print(\"loglik\")\n",
    "print(loglik_val)"
   ]
  },
  {
   "cell_type": "code",
   "execution_count": 10,
   "id": "a19ba401-f7f5-415e-8481-4ba14938509e",
   "metadata": {},
   "outputs": [],
   "source": [
    "## Testing G = 3\n",
    "G = 3\n",
    "\n",
    "p2 = 20/n\n",
    "p3 = 1 - p1 - p2\n",
    "mixture_weights = [p1, p2, p3]\n",
    "\n",
    "mu2 = X[10:30].mean(0)\n",
    "mu3 = X[30:].mean(0)\n",
    "means = np.array([mu1, mu2, mu3])\n",
    "\n",
    "cov_mat_L = sum([(X[l] - mu1).reshape((2, 1)) @ (X[l] - mu1).reshape((1, 2)) for l in range(10)])\n",
    "cov_mat_R = sum([(X[l] - mu2).reshape((2, 1)) @ (X[l] - mu2).reshape((1, 2)) for l in range(10, 30)])\n",
    "cov_mat_3 = sum([(X[l] - mu3).reshape((2, 1)) @ (X[l] - mu3).reshape((1, 2)) for l in range(30, len(X))])\n",
    "cov_mat = (cov_mat_L + cov_mat_R + cov_mat_3) / n"
   ]
  },
  {
   "cell_type": "code",
   "execution_count": 11,
   "id": "d980832d-a2b4-4b96-b4d5-ebaf56b00cf7",
   "metadata": {},
   "outputs": [
    {
     "name": "stdout",
     "output_type": "stream",
     "text": [
      "prob\n",
      "[0.04363422 0.07718656 0.87917922]\n",
      "mean\n",
      "[[ 3.51006918  2.81616674  3.54564083]\n",
      " [77.10563811 63.35752634 71.25084801]]\n",
      "Sigma\n",
      "[[  1.26015772  13.51153756]\n",
      " [ 13.51153756 177.96419105]]\n",
      "loglik\n",
      "-1289.350958862739\n"
     ]
    }
   ],
   "source": [
    "prob, mean, Sigma, loglik_val = myEM(X, G, mixture_weights, means, cov_mat, p, itmax)\n",
    "print(\"prob\")\n",
    "print(prob)\n",
    "\n",
    "print(\"mean\")\n",
    "print(mean)\n",
    "\n",
    "print(\"Sigma\")\n",
    "print(Sigma)\n",
    "\n",
    "print(\"loglik\")\n",
    "print(loglik_val)"
   ]
  },
  {
   "cell_type": "markdown",
   "id": "05339282",
   "metadata": {},
   "source": [
    "## Part 2"
   ]
  },
  {
   "cell_type": "markdown",
   "id": "b5a66432",
   "metadata": {},
   "source": [
    "### Baum-Welch"
   ]
  },
  {
   "cell_type": "code",
   "execution_count": 12,
   "id": "24216290-63e0-4b72-b7af-a47f6c845070",
   "metadata": {},
   "outputs": [],
   "source": [
    "#BW\n",
    "def forward(t,i,x, mz,w,A,B,alphas):\n",
    "    if alphas[t,i] != 0:\n",
    "        return alphas[t,i]\n",
    "    elif t == 0:#changed from 1\n",
    "        return w[i]*B[i,x[0]]\n",
    "    else:\n",
    "        s=0\n",
    "        for j in range(mz):\n",
    "            s+=forward(t-1,j,x, mz,w,A,B,alphas)*A[j,i]*B[i,x[t]]\n",
    "        return s\n",
    "        "
   ]
  },
  {
   "cell_type": "code",
   "execution_count": 13,
   "id": "6b45a272",
   "metadata": {},
   "outputs": [],
   "source": [
    "def backward(t,i,x, mx, mz,w,A,B,betas):\n",
    "    n = len(x)\n",
    "    if betas[t,i] !=0:\n",
    "        return betas[t,i]\n",
    "    elif t == n-1:#changed from n\n",
    "        return 1\n",
    "    else:\n",
    "        s = 0\n",
    "        for j in range(mz):\n",
    "            s+=A[i,j]*B[j,x[t+1]]*backward(t+1,j,x, mx, mz,w,A,B,betas)#changed bxt\n",
    "        return s"
   ]
  },
  {
   "cell_type": "code",
   "execution_count": 14,
   "id": "26924f99",
   "metadata": {},
   "outputs": [],
   "source": [
    "def biggamma(t,i,j,x, mx,mz,w,A,B,alphas,betas):\n",
    "    return forward(t,i,x, mz,w,A,B,alphas)*A[i,j]*B[j,x[t+1]]*backward(t+1,j,x, mx, mz,w,A,B,betas)"
   ]
  },
  {
   "cell_type": "code",
   "execution_count": 15,
   "id": "7f76c7f9",
   "metadata": {},
   "outputs": [],
   "source": [
    "def BW_onestep(data, mx, mz,w,A,B):\n",
    "    #Estep \n",
    "    n = len(data)\n",
    "    T = len(data)\n",
    "    #calculate the alphas and betas\n",
    "    oldA = A.copy()\n",
    "    alphas = np.zeros((n,mz))\n",
    "    for t in range(n):\n",
    "        for i in range(mz):\n",
    "            alphas[t,i] = forward(t,i,data, mz,w,A,B, alphas)\n",
    "    betas = np.zeros((n, mz))\n",
    "    for t in range(n-1,-1,-1):\n",
    "        for j in range(mz):\n",
    "            betas[t,j] = backward(t,j,data,mx, mz,w,A,B,betas)\n",
    "\n",
    "    gamma = np.zeros((mz,mz,T-1))\n",
    "    for i in range(mz):\n",
    "        for j in range(mz):\n",
    "            for t in range(T-1):\n",
    "                gamma[i][j][t] = biggamma(t,i,j,data, mx, mz,w,A,B,alphas,betas)\n",
    "    \n",
    "    for i in range(mz):\n",
    "        den = np.sum(gamma[i,:,:])\n",
    "        for j in range(mz):\n",
    "            num = np.sum(gamma[i,j,:])\n",
    "            A[i][j] = num/den\n",
    "    \n",
    "    margiGamma = np.zeros((T,mz))\n",
    "    for t in range(T):\n",
    "        for i in range(mz):\n",
    "            if t==0:#changed from 1\n",
    "                s = 0\n",
    "                for j in range(mz):\n",
    "                    s+=gamma[i,j,t]#changed from 1\n",
    "                margiGamma[t,i] = s\n",
    "            elif t == T-1:#changed from len(x)\n",
    "                s = 0\n",
    "                for j in range(mz):\n",
    "                    s+=gamma[j,i,t-1]\n",
    "                margiGamma[t,i] = s\n",
    "            else:\n",
    "                s = 0\n",
    "                for j in range(mz):\n",
    "                    #print(t,i,j)\n",
    "                    s+=gamma[i,j,t]\n",
    "                margiGamma[t,i] = s\n",
    "    for i in range(mz):\n",
    "        den = 0\n",
    "        for t in range(T):\n",
    "            den += margiGamma[t,i]\n",
    "        for l in range(mx):\n",
    "            num = 0\n",
    "            for t in range(T):\n",
    "                if data[t] == l:\n",
    "                    num+=margiGamma[t,i]\n",
    "            B[i,l] = num/den\n",
    "            #print(num,den)\n",
    "            \n",
    "    return(A,B)"
   ]
  },
  {
   "cell_type": "code",
   "execution_count": 16,
   "id": "bcb25fd6-b854-42f2-91cc-c42bd4a9ba9d",
   "metadata": {},
   "outputs": [],
   "source": [
    "def myBW(data, mx, mz,w,A,B, loop):\n",
    "    for i in range(loop):\n",
    "        A,B = BW_onestep(data, mx, mz,w,A,B)\n",
    "    return (A,B)"
   ]
  },
  {
   "cell_type": "code",
   "execution_count": 17,
   "id": "6f334a25",
   "metadata": {},
   "outputs": [],
   "source": [
    "#test data\n",
    "part2 = open('coding4_part2_data.txt')\n",
    "temp = []\n",
    "for row in part2:\n",
    "    temp.append(row.split())\n",
    "for i in range(len(temp)):\n",
    "    temp[i] = int(temp[i][0])-1#changed because it was one indexed\n",
    "part2 = np.array(temp)\n",
    "w = np.array([.5,.5])\n",
    "A = np.array([[.5,.5],\n",
    "              [.5,.5]])\n",
    "B = np.array([[1/9,3/9,5/9],\n",
    "              [1/6,2/6,3/6]])\n",
    "mz = 2\n",
    "mx=3"
   ]
  },
  {
   "cell_type": "code",
   "execution_count": 18,
   "id": "1315bf50",
   "metadata": {},
   "outputs": [
    {
     "name": "stdout",
     "output_type": "stream",
     "text": [
      "A\n",
      "[[0.49793938 0.50206062]\n",
      " [0.44883431 0.55116569]]\n",
      "B\n",
      "[[0.22159897 0.20266127 0.57573976]\n",
      " [0.34175148 0.17866665 0.47958186]]\n"
     ]
    }
   ],
   "source": [
    "A,B = myBW(part2, mx, mz,w,A,B, 100)\n",
    "print(\"A\")\n",
    "print(A)\n",
    "print(\"B\")\n",
    "print(B)"
   ]
  },
  {
   "cell_type": "markdown",
   "id": "c03205ee",
   "metadata": {},
   "source": [
    "### Viterbi"
   ]
  },
  {
   "cell_type": "code",
   "execution_count": 19,
   "id": "d03fd327",
   "metadata": {},
   "outputs": [],
   "source": [
    "def viterbi(x, A, B, w):\n",
    "    K = A.shape[0]\n",
    "    T = len(x)\n",
    "    \n",
    "    delta = np.zeros((K, T))\n",
    "    T2 = np.zeros((K, T))\n",
    "\n",
    "    # Use w to have initial values in matrix\n",
    "    delta[:, 0] = w * B[:, x[0]]\n",
    "    T2[:, 0] = 0\n",
    "\n",
    "    # Go through observations and edit the matrices\n",
    "    for i in range(1, T):\n",
    "        delta[:, i] = np.max(delta[:, i - 1] * A.T * B[np.newaxis, :, x[i]].T, 1)\n",
    "        T2[:, i] = np.argmax(delta[:, i - 1] * A.T, 1)\n",
    "\n",
    "    # Build the output, optimal model trajectory\n",
    "    z = np.empty(T, 'B')\n",
    "    z[-1] = np.argmax(delta[:, T - 1])\n",
    "    for i in reversed(range(1, T)):\n",
    "        z[i - 1] = T2[z[i], i]\n",
    "\n",
    "    return z"
   ]
  },
  {
   "cell_type": "code",
   "execution_count": 20,
   "id": "5889c266",
   "metadata": {},
   "outputs": [
    {
     "name": "stdout",
     "output_type": "stream",
     "text": [
      "[1 1 1 1 1 1 1 2 1 1 1 1 1 2 2 1 1 1 1 1 1 1 2 2 2 2 2 1 1 1 1 1 1 1 2 1 1\n",
      " 1 1 1 1 1 1 2 2 1 1 1 1 1 1 2 2 2 1 1 1 1 2 2 2 2 1 1 1 1 1 1 1 1 2 2 2 2\n",
      " 2 2 2 2 2 2 2 2 2 2 2 2 2 2 2 2 2 1 1 1 1 2 1 1 1 1 1 1 1 1 1 1 1 1 1 2 1\n",
      " 1 1 1 2 1 1 1 1 1 1 2 2 2 2 2 2 2 2 2 2 2 2 1 1 1 1 1 1 1 2 2 2 2 2 2 2 2\n",
      " 2 2 2 1 1 1 2 2 2 2 2 2 1 1 1 1 1 2 2 2 2 2 2 2 2 2 1 1 1 2 2 2 1 1 1 1 1\n",
      " 1 1 1 2 2 2 2 2 1 1 1 1 1 1 1]\n"
     ]
    }
   ],
   "source": [
    "temp = []\n",
    "part2_z = open('Coding4_part2_Z.txt', 'r')\n",
    "for line in part2_z.readlines():\n",
    "    for num in line:\n",
    "        if num.isdigit() == True:\n",
    "            temp.append(int(num))\n",
    "        \n",
    "part2_zseq = np.array(temp)\n",
    "# Generated sequence using Viterbi:\n",
    "print(part2_zseq)"
   ]
  },
  {
   "cell_type": "code",
   "execution_count": 21,
   "id": "7934c167",
   "metadata": {},
   "outputs": [
    {
     "name": "stdout",
     "output_type": "stream",
     "text": [
      "[1 1 1 1 1 1 1 2 1 1 1 1 1 2 2 1 1 1 1 1 1 1 2 2 2 2 2 1 1 1 1 1 1 1 2 1 1\n",
      " 1 1 1 1 1 1 2 2 1 1 1 1 1 1 2 2 2 1 1 1 1 2 2 2 2 1 1 1 1 1 1 1 1 2 2 2 2\n",
      " 2 2 2 2 2 2 2 2 2 2 2 2 2 2 2 2 2 1 1 1 1 2 1 1 1 1 1 1 1 1 1 1 1 1 1 2 1\n",
      " 1 1 1 2 1 1 1 1 1 1 2 2 2 2 2 2 2 2 2 2 2 2 1 1 1 1 1 1 1 2 2 2 2 2 2 2 2\n",
      " 2 2 2 1 1 1 2 2 2 2 2 2 1 1 1 1 1 2 2 2 2 2 2 2 2 2 1 1 1 2 2 2 1 1 1 1 1\n",
      " 1 1 1 2 2 2 2 2 1 1 1 1 1 1 1]\n"
     ]
    }
   ],
   "source": [
    "z_calc = viterbi(part2, A, B, w)\n",
    "# Print the calculated Z sequence (+1 because of indexing)\n",
    "print(z_calc + 1)"
   ]
  },
  {
   "cell_type": "code",
   "execution_count": 22,
   "id": "3dd4893a",
   "metadata": {},
   "outputs": [
    {
     "name": "stdout",
     "output_type": "stream",
     "text": [
      "1.0\n"
     ]
    }
   ],
   "source": [
    "# Compare generated sequence with given sequence. 1.0 means complete accuracy\n",
    "print( np.sum((part2_zseq - 1) == z_calc) / part2_zseq.size )"
   ]
  },
  {
   "cell_type": "code",
   "execution_count": null,
   "id": "7bb7d51b",
   "metadata": {},
   "outputs": [],
   "source": []
  }
 ],
 "metadata": {
  "kernelspec": {
   "display_name": "Python 3 (ipykernel)",
   "language": "python",
   "name": "python3"
  },
  "language_info": {
   "codemirror_mode": {
    "name": "ipython",
    "version": 3
   },
   "file_extension": ".py",
   "mimetype": "text/x-python",
   "name": "python",
   "nbconvert_exporter": "python",
   "pygments_lexer": "ipython3",
   "version": "3.9.13"
  }
 },
 "nbformat": 4,
 "nbformat_minor": 5
}
