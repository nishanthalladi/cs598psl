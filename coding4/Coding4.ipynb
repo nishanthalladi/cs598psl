{
 "cells": [
  {
   "cell_type": "code",
   "execution_count": 1,
   "id": "f4bd45df",
   "metadata": {},
   "outputs": [],
   "source": [
    "import math"
   ]
  },
  {
   "cell_type": "code",
   "execution_count": 2,
   "id": "0b20c3c9",
   "metadata": {},
   "outputs": [],
   "source": [
    "# Take in mean and variance, return probability\n",
    "def mypdf (x, mean, stdev):\n",
    "    return (1 / (stdev * math.sqrt(2 * math.pi))) * math.exp(-0.5 * (((x - mean) / stdev) ** 2))"
   ]
  },
  {
   "cell_type": "code",
   "execution_count": null,
   "id": "f62de2cd",
   "metadata": {},
   "outputs": [],
   "source": []
  },
  {
   "cell_type": "code",
   "execution_count": null,
   "id": "cd7c8f30",
   "metadata": {},
   "outputs": [],
   "source": []
  }
 ],
 "metadata": {
  "kernelspec": {
   "display_name": "Python 3 (ipykernel)",
   "language": "python",
   "name": "python3"
  },
  "language_info": {
   "codemirror_mode": {
    "name": "ipython",
    "version": 3
   },
   "file_extension": ".py",
   "mimetype": "text/x-python",
   "name": "python",
   "nbconvert_exporter": "python",
   "pygments_lexer": "ipython3",
   "version": "3.11.4"
  }
 },
 "nbformat": 4,
 "nbformat_minor": 5
}
