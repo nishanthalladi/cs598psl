{
 "cells": [
  {
   "cell_type": "code",
   "execution_count": 6,
   "id": "f4bd45df",
   "metadata": {},
   "outputs": [],
   "source": [
    "import math\n",
    "import numpy as np"
   ]
  },
  {
   "cell_type": "code",
   "execution_count": 1,
   "id": "0b20c3c9",
   "metadata": {},
   "outputs": [],
   "source": [
    "# Take in mean and variance, return probability\n",
    "def multivariate_gaussian_pdf(x, mean, cov_mat):\n",
    "    p = len(cov_mat)\n",
    "    left_term = 1 / math.sqrt(np.linalg.det(cov_mat) * (2 * math.pi) ** p)\n",
    "    right_term = np.e ** (-0.5 * )\n",
    "    return left_term * right_term\n",
    "\n"
   ]
  },
  {
   "cell_type": "code",
   "execution_count": 58,
   "id": "f62de2cd",
   "metadata": {},
   "outputs": [],
   "source": [
    "def Estep(X, means, cov_mat, G):\n",
    "    A = X.T\n",
    "    p = len(cov_mat)\n",
    "    probs = np.zeros((X.shape[0], G))\n",
    "    for k, mu in enumerate(means):\n",
    "        probs[:,k] = np.sum((np.linalg.inv(cov_mat) @ (X - mu).T) * (X - mu).T, axis=0)\n",
    "    probs = probs * -0.5\n",
    "    probs = np.exp(probs)\n",
    "    left_term = 1 / math.sqrt(np.linalg.det(cov_mat) * (2 * math.pi) ** p)\n",
    "    probs = probs * left_term\n",
    "    return probs"
   ]
  },
  {
   "cell_type": "code",
   "execution_count": null,
   "id": "cd7c8f30",
   "metadata": {},
   "outputs": [],
   "source": []
  }
 ],
 "metadata": {
  "kernelspec": {
   "display_name": "Python 3 (ipykernel)",
   "language": "python",
   "name": "python3"
  },
  "language_info": {
   "codemirror_mode": {
    "name": "ipython",
    "version": 3
   },
   "file_extension": ".py",
   "mimetype": "text/x-python",
   "name": "python",
   "nbconvert_exporter": "python",
   "pygments_lexer": "ipython3",
   "version": "3.9.13"
  }
 },
 "nbformat": 4,
 "nbformat_minor": 5
}
