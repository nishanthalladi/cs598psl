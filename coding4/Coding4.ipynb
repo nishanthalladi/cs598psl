{
 "cells": [
  {
   "cell_type": "code",
   "execution_count": 476,
   "id": "f4bd45df",
   "metadata": {},
   "outputs": [],
   "source": [
    "import math\n",
    "import numpy as np"
   ]
  },
  {
   "cell_type": "code",
   "execution_count": 477,
   "id": "f62de2cd",
   "metadata": {},
   "outputs": [],
   "source": [
    "def Estep(X, mixture_weights, means, cov_mat, p, G):\n",
    "    # multivariate gaussian PDF\n",
    "    probs = np.zeros((X.shape[0], G)) # n x g shape\n",
    "    for k, mu in enumerate(means): # exponent term\n",
    "        probs[:,k] = np.sum((np.linalg.inv(cov_mat) @ (X - mu).T) * (X - mu).T, axis=0)\n",
    "    probs = np.exp(probs * -0.5)\n",
    "    probs /= math.sqrt(np.linalg.det(cov_mat) * (2 * math.pi) ** p) \n",
    "\n",
    "    probs *= mixture_weights\n",
    "\n",
    "    return (probs / probs.sum(axis=1, keepdims=True)) + 1e-10 # normalizing"
   ]
  },
  {
   "cell_type": "code",
   "execution_count": 478,
   "id": "cd7c8f30",
   "metadata": {},
   "outputs": [],
   "source": [
    "def Mstep(X, probs, p, G):\n",
    "    mixture_weights = np.mean(probs, axis=0)\n",
    "    means = np.zeros((G, p))\n",
    "    cov_mat = np.zeros((p, p))\n",
    "    for k in range(G):\n",
    "        means[k] = np.sum((X.T * probs[:,k]).T, 0) / sum(probs[:,k])\n",
    "        tmp = X - means[k]\n",
    "        cov_mat_k = tmp.T @ np.diag(probs[:,k]) @ tmp\n",
    "        cov_mat_k /= np.sum(probs[:,k])\n",
    "        cov_mat += cov_mat_k\n",
    "    return mixture_weights, means, cov_mat"
   ]
  },
  {
   "cell_type": "code",
   "execution_count": 479,
   "id": "6b53ebae-fa84-4b24-add8-3e61ce0ac954",
   "metadata": {},
   "outputs": [],
   "source": [
    "faithful = open('faithful.dat')\n",
    "temp = []\n",
    "for row in faithful:\n",
    "    temp.append(row.split()[1:])\n",
    "temp = temp[1:]\n",
    "for i in range(len(temp)):\n",
    "    for j in range(len(temp[i])):\n",
    "        temp[i][j] = float(temp[i][j])\n",
    "faithful = np.array(temp)"
   ]
  },
  {
   "cell_type": "code",
   "execution_count": 480,
   "id": "f986e6cf-b6b8-46e2-aef7-2f4e7e90dea8",
   "metadata": {},
   "outputs": [],
   "source": [
    "## Testing G = 2\n",
    "n = len(faithful)\n",
    "X = faithful\n",
    "p = 2\n",
    "G = 2\n",
    "\n",
    "p1 = 10/n\n",
    "p2 = 1 - p1\n",
    "mixture_weights = [p1, p2]\n",
    "\n",
    "mu1 = X[:10].mean(0)\n",
    "mu2 = X[10:].mean(0)\n",
    "means = np.array([mu1, mu2])\n",
    "\n",
    "cov_mat_L = sum([(X[l] - mu1).reshape((2, 1)) @ (X[l] - mu1).reshape((1, 2)) for l in range(10)])\n",
    "cov_mat_R = sum([(X[l] - mu1).reshape((2, 1)) @ (X[l] - mu1).reshape((1, 2)) for l in range(10, len(X))])\n",
    "cov_mat = (cov_mat_L + cov_mat_R) / n"
   ]
  },
  {
   "cell_type": "code",
   "execution_count": 481,
   "id": "35b0d8de",
   "metadata": {},
   "outputs": [
    {
     "name": "stdout",
     "output_type": "stream",
     "text": [
      "[0.03602766 0.96397234]\n",
      "[0.0352983 0.9647017]\n",
      "[0.03511552 0.96488448]\n",
      "[0.03507015 0.96492985]\n",
      "[0.03505887 0.96494113]\n",
      "[0.03505606 0.96494394]\n",
      "[0.03505536 0.96494464]\n",
      "[0.03505518 0.96494482]\n",
      "[0.03505514 0.96494486]\n",
      "[0.03505513 0.96494487]\n",
      "[0.03505512 0.96494488]\n",
      "[0.03505512 0.96494488]\n",
      "[0.03505512 0.96494488]\n",
      "[0.03505512 0.96494488]\n",
      "[0.03505512 0.96494488]\n",
      "[0.03505512 0.96494488]\n",
      "[0.03505512 0.96494488]\n",
      "[0.03505512 0.96494488]\n",
      "[0.03505512 0.96494488]\n",
      "[0.03505512 0.96494488]\n"
     ]
    }
   ],
   "source": [
    "\n",
    "for i in range(20):\n",
    "    r = Estep(X, mixture_weights, means, cov_mat, p, G)\n",
    "    mixture_weights, means, cov_mat = Mstep(X, r, p, G)\n",
    "    print(mixture_weights)\n"
   ]
  },
  {
   "cell_type": "markdown",
   "id": "05339282",
   "metadata": {},
   "source": [
    "## Part 2"
   ]
  },
  {
   "cell_type": "code",
   "execution_count": 19,
   "id": "24216290-63e0-4b72-b7af-a47f6c845070",
   "metadata": {},
   "outputs": [],
   "source": [
    "#BW\n",
    "def forward(t,i,x, mz,w,A,B,alphas):\n",
    "    if alphas[t,i] != 0:\n",
    "        return alphas[t,i]\n",
    "    elif t == 0:#changed from 1\n",
    "        return w[i]*B[i,x[0]]\n",
    "    else:\n",
    "        s=0\n",
    "        for j in range(mz):\n",
    "            s+=forward(t-1,j,x, mz,w,A,B,alphas)*A[j,i]*B[i,x[t]]\n",
    "        return s\n",
    "        "
   ]
  },
  {
   "cell_type": "code",
   "execution_count": 20,
   "id": "6b45a272",
   "metadata": {},
   "outputs": [],
   "source": [
    "def backward(t,i,x, mx, mz,w,A,B,betas):\n",
    "    n = len(x)\n",
    "    if betas[t,i] !=0:\n",
    "        return betas[t,i]\n",
    "    elif t == n-1:#changed from n\n",
    "        return 1\n",
    "    else:\n",
    "        s = 0\n",
    "        for j in range(mz):\n",
    "            s+=A[i,j]*B[j,x[t+1]]*backward(t+1,j,x, mx, mz,w,A,B,betas)#changed bxt\n",
    "        return s"
   ]
  },
  {
   "cell_type": "code",
   "execution_count": 21,
   "id": "26924f99",
   "metadata": {},
   "outputs": [],
   "source": [
    "def biggamma(t,i,j,x, mx,mz,w,A,B,alphas,betas):\n",
    "    return forward(t,i,x, mz,w,A,B,alphas)*A[i,j]*B[j,x[t+1]]*backward(t+1,j,x, mx, mz,w,A,B,betas)"
   ]
  },
  {
   "cell_type": "code",
   "execution_count": 22,
   "id": "7f76c7f9",
   "metadata": {},
   "outputs": [],
   "source": [
    "def BW_onestep(data, mx, mz,w,A,B):\n",
    "    #Estep \n",
    "    n = len(data)\n",
    "    T = len(data)\n",
    "    #calculate the alphas and betas\n",
    "    oldA = A.copy()\n",
    "    alphas = np.zeros((n,mz))\n",
    "    for t in range(n):\n",
    "        for i in range(mz):\n",
    "            alphas[t,i] = forward(t,i,data, mz,w,A,B, alphas)\n",
    "    betas = np.zeros((n, mz))\n",
    "    for t in range(n-1,-1,-1):\n",
    "        for j in range(mz):\n",
    "            betas[t,j] = backward(t,j,data,mx, mz,w,A,B,betas)\n",
    "\n",
    "    gamma = np.zeros((mz,mz,T-1))\n",
    "    for i in range(mz):\n",
    "        for j in range(mz):\n",
    "            for t in range(T-1):\n",
    "                gamma[i][j][t] = biggamma(t,i,j,data, mx, mz,w,A,B,alphas,betas)\n",
    "    \n",
    "    for i in range(mz):\n",
    "        den = np.sum(gamma[i,:,:])\n",
    "        for j in range(mz):\n",
    "            num = np.sum(gamma[i,j,:])\n",
    "            A[i][j] = num/den\n",
    "    \n",
    "    margiGamma = np.zeros((T,mz))\n",
    "    for t in range(T):\n",
    "        for i in range(mz):\n",
    "            if t==0:#changed from 1\n",
    "                s = 0\n",
    "                for j in range(mz):\n",
    "                    s+=gamma[i,j,t]#changed from 1\n",
    "                margiGamma[t,i] = s\n",
    "            elif t == T-1:#changed from len(x)\n",
    "                s = 0\n",
    "                for j in range(mz):\n",
    "                    s+=gamma[j,i,t-1]\n",
    "                margiGamma[t,i] = s\n",
    "            else:\n",
    "                s = 0\n",
    "                for j in range(mz):\n",
    "                    #print(t,i,j)\n",
    "                    s+=gamma[i,j,t]\n",
    "                margiGamma[t,i] = s\n",
    "    for i in range(mz):\n",
    "        den = 0\n",
    "        for t in range(T):\n",
    "            den += margiGamma[t,i]\n",
    "        for l in range(mx):\n",
    "            num = 0\n",
    "            for t in range(T):\n",
    "                if data[t] == l:\n",
    "                    num+=margiGamma[t,i]\n",
    "            B[i,l] = num/den\n",
    "            #print(num,den)\n",
    "            \n",
    "    return(A,B)"
   ]
  },
  {
   "cell_type": "code",
   "execution_count": 23,
   "id": "6f334a25",
   "metadata": {},
   "outputs": [],
   "source": [
    "#test data\n",
    "part2 = open('coding4_part2_data.txt')\n",
    "temp = []\n",
    "for row in part2:\n",
    "    temp.append(row.split())\n",
    "for i in range(len(temp)):\n",
    "    temp[i] = int(temp[i][0])-1#changed because it was one indexed\n",
    "part2 = np.array(temp)\n",
    "w = np.array([.5,.5])\n",
    "A = np.array([[.5,.5],\n",
    "              [.5,.5]])\n",
    "B = np.array([[1/9,3/9,5/9],\n",
    "              [1/6,2/6,3/6]])\n",
    "mz = 2\n",
    "mx=3"
   ]
  },
  {
   "cell_type": "code",
   "execution_count": 24,
   "id": "1315bf50",
   "metadata": {},
   "outputs": [
    {
     "name": "stdout",
     "output_type": "stream",
     "text": [
      "[[0.49793938 0.50206062]\n",
      " [0.44883431 0.55116569]]\n",
      "[[0.22159897 0.20266127 0.57573976]\n",
      " [0.34175148 0.17866665 0.47958186]]\n"
     ]
    }
   ],
   "source": [
    "for i in range(100):\n",
    "    #print(\"i: \", i)\n",
    "    A,B = BW_onestep(part2, mx, mz,w,A,B)\n",
    "print(A)\n",
    "print(B)"
   ]
  },
  {
   "cell_type": "code",
   "execution_count": null,
   "id": "51a4f4b1",
   "metadata": {},
   "outputs": [],
   "source": []
  }
 ],
 "metadata": {
  "kernelspec": {
   "display_name": "Python 3 (ipykernel)",
   "language": "python",
   "name": "python3"
  },
  "language_info": {
   "codemirror_mode": {
    "name": "ipython",
    "version": 3
   },
   "file_extension": ".py",
   "mimetype": "text/x-python",
   "name": "python",
   "nbconvert_exporter": "python",
   "pygments_lexer": "ipython3",
   "version": "3.9.13"
  }
 },
 "nbformat": 4,
 "nbformat_minor": 5
}
