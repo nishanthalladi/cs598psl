{
 "cells": [
  {
   "cell_type": "code",
   "execution_count": 9,
   "id": "088159f7-1bd6-4781-9f69-4eb8be39c06c",
   "metadata": {},
   "outputs": [],
   "source": [
    "import skmisc\n",
    "import numpy as np\n",
    "import csv"
   ]
  },
  {
   "cell_type": "code",
   "execution_count": 10,
   "id": "77b76b06-feba-46a6-8aa0-54b183013786",
   "metadata": {},
   "outputs": [
    {
     "name": "stdout",
     "output_type": "stream",
     "text": [
      "[['0.0094957563560456', '0.0399959180504084', '0.045770263299346', '0.113703411305323', '0.159046002896503', '0.186722789658234', '0.218799541005865', '0.232225910527632', '0.232550506014377', '0.266820780001581', '0.282733583590016', '0.286223284667358', '0.292315840255469', '0.302693370729685', '0.316612454829738', '0.514251141343266', '0.525697546778247', '0.544974835589528', '0.609274732880294', '0.622299404814839', '0.623379441676661', '0.640310605289415', '0.666083758231252', '0.693591291783378', '0.810598552459851', '0.83134504687041', '0.837295628152788', '0.860915383556858', '0.914658166002482', '0.923433484276757'], ['2.69282173742339', '0.566786601720556', '-0.133373144391727', '-2.69673372172282', '-0.145285216261856', '-2.44509659088907', '-2.76229967997411', '-2.49873687881929', '-1.59292653137288', '-2.04291309703408', '-2.4238220815326', '-0.317056121148411', '-1.76838142451829', '-0.50896187781167', '-1.09803853326135', '2.15761182456894', '0.42930109880133', '-0.0835409453266436', '-0.850477777344373', '-2.15017442140423', '-1.7021949588961', '-2.90868268539325', '-2.29226633589835', '-1.37208722449801', '-0.886642901282115', '1.26615820349608', '-1.18292418948116', '-0.700902221089788', '0.368868692640227', '-0.288949279089763']]\n"
     ]
    }
   ],
   "source": [
    "data = [[], []]\n",
    "with open('Coding3_Data.csv', newline='') as csvfile:\n",
    "    reader = csv.reader(csvfile, delimiter=',')\n",
    "    for row in reader:\n",
    "        data[0].append(row[0])\n",
    "        data[1].append(row[1])\n",
    "data[0] = data[0][1:]\n",
    "data[1] = data[1][1:]\n",
    "\n",
    "print(data)"
   ]
  },
  {
   "cell_type": "code",
   "execution_count": 11,
   "id": "9454a35b-d2f4-474f-bf2a-eb2259982b91",
   "metadata": {},
   "outputs": [
    {
     "ename": "AttributeError",
     "evalue": "module 'skmisc' has no attribute 'loess'",
     "output_type": "error",
     "traceback": [
      "\u001b[0;31m---------------------------------------------------------------------------\u001b[0m",
      "\u001b[0;31mAttributeError\u001b[0m                            Traceback (most recent call last)",
      "\u001b[0;32m/var/folders/rq/tkmv0vx10nn5pf21zrrdkvgc0000gp/T/ipykernel_69474/2682998673.py\u001b[0m in \u001b[0;36m<module>\u001b[0;34m\u001b[0m\n\u001b[0;32m----> 1\u001b[0;31m \u001b[0mloess\u001b[0m \u001b[0;34m=\u001b[0m \u001b[0mskm\u001b[0m\u001b[0;34m.\u001b[0m\u001b[0mloess\u001b[0m\u001b[0;34m.\u001b[0m\u001b[0mloess\u001b[0m\u001b[0;34m(\u001b[0m\u001b[0mdata\u001b[0m\u001b[0;34m[\u001b[0m\u001b[0;36m0\u001b[0m\u001b[0;34m]\u001b[0m\u001b[0;34m,\u001b[0m \u001b[0mdata\u001b[0m\u001b[0;34m[\u001b[0m\u001b[0;36m1\u001b[0m\u001b[0;34m]\u001b[0m\u001b[0;34m)\u001b[0m\u001b[0;34m\u001b[0m\u001b[0;34m\u001b[0m\u001b[0m\n\u001b[0m",
      "\u001b[0;31mAttributeError\u001b[0m: module 'skmisc' has no attribute 'loess'"
     ]
    }
   ],
   "source": [
    "loess = skmisc.loess.loess(data[0], data[1])"
   ]
  },
  {
   "cell_type": "code",
   "execution_count": null,
   "id": "4828704b-f0f1-45a1-93d1-1b08258fccd4",
   "metadata": {},
   "outputs": [],
   "source": [
    "x = skm.loess.loess_outputs()"
   ]
  }
 ],
 "metadata": {
  "kernelspec": {
   "display_name": "Python 3 (ipykernel)",
   "language": "python",
   "name": "python3"
  },
  "language_info": {
   "codemirror_mode": {
    "name": "ipython",
    "version": 3
   },
   "file_extension": ".py",
   "mimetype": "text/x-python",
   "name": "python",
   "nbconvert_exporter": "python",
   "pygments_lexer": "ipython3",
   "version": "3.9.13"
  }
 },
 "nbformat": 4,
 "nbformat_minor": 5
}
