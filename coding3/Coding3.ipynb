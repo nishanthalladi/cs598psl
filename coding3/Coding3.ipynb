{
 "cells": [
  {
   "cell_type": "code",
   "execution_count": 38,
   "id": "088159f7-1bd6-4781-9f69-4eb8be39c06c",
   "metadata": {},
   "outputs": [],
   "source": [
    "from skmisc.loess import loess, loess_outputs\n",
    "import numpy as np\n",
    "import csv"
   ]
  },
  {
   "cell_type": "code",
   "execution_count": 71,
   "id": "77b76b06-feba-46a6-8aa0-54b183013786",
   "metadata": {},
   "outputs": [],
   "source": [
    "data = [[], []]\n",
    "with open('Coding3_Data.csv', newline='') as csvfile:\n",
    "    reader = csv.reader(csvfile, delimiter=',')\n",
    "    for row in reader:\n",
    "        data[0].append(row[0])\n",
    "        data[1].append(row[1])\n",
    "data[0] = np.array(data[0][1:], dtype='float64')\n",
    "data[1] = np.array(data[1][1:], dtype='float64')\n",
    "\n",
    "data = np.asarray(data)"
   ]
  },
  {
   "cell_type": "code",
   "execution_count": 106,
   "id": "06383812-abaa-43b6-8954-cfffa60642e8",
   "metadata": {},
   "outputs": [],
   "source": [
    "def lcv(y, y_hat, S):\n",
    "    return sum(np.square((y - y_hat) / (1 - S))) / len(x)"
   ]
  },
  {
   "cell_type": "code",
   "execution_count": 122,
   "id": "b242bca8-f710-4a83-82d2-f869ed310396",
   "metadata": {},
   "outputs": [],
   "source": [
    "def gcv(y, y_hat, S):\n",
    "    return sum(np.square((y - y_hat) / (1 - (1 / len(x)) * sum(S)))) / len(x)\n"
   ]
  },
  {
   "cell_type": "code",
   "execution_count": 125,
   "id": "73497140-0cfb-44dc-b0d3-90f07eb8e106",
   "metadata": {},
   "outputs": [],
   "source": [
    "spans = np.arange(0.2, 0.95, 0.05)\n",
    "lcvs = []\n",
    "gcvs = []\n",
    "x, y = data[0], data[1]\n",
    "for span in spans:\n",
    "    loess_model = loess(x, y)\n",
    "    loess_model.model.span = span\n",
    "    loess_model.fit()\n",
    "    S = loess_model.outputs.diagonal\n",
    "    y_hat = loess_model.outputs.fitted_values\n",
    "    \n",
    "    lcvs.append(lcv(y, y_hat, S))\n",
    "    gcvs.append(gcv(y, y_hat, S))\n",
    "    \n",
    "lcvs = np.array(lcvs)\n",
    "best_span_lcv = spans[np.argmin(lcvs)]\n",
    "best_span_gcv = spans[np.argmin(gcvs)]"
   ]
  },
  {
   "cell_type": "code",
   "execution_count": 126,
   "id": "f53b64ee-1b70-47bb-9e5e-c6e1ed213a61",
   "metadata": {},
   "outputs": [
    {
     "name": "stdout",
     "output_type": "stream",
     "text": [
      "Best span chosen by LCV:  0.49999999999999994\n",
      "Best span chosen by GCV:  0.49999999999999994\n"
     ]
    }
   ],
   "source": [
    "print('Best span chosen by LCV: ', best_span_lcv)\n",
    "print('Best span chosen by GCV: ', best_span_gcv)"
   ]
  },
  {
   "cell_type": "code",
   "execution_count": null,
   "id": "110245bd-aa84-47ad-a5bc-7798abbad81b",
   "metadata": {},
   "outputs": [],
   "source": []
  }
 ],
 "metadata": {
  "kernelspec": {
   "display_name": "Python 3 (ipykernel)",
   "language": "python",
   "name": "python3"
  },
  "language_info": {
   "codemirror_mode": {
    "name": "ipython",
    "version": 3
   },
   "file_extension": ".py",
   "mimetype": "text/x-python",
   "name": "python",
   "nbconvert_exporter": "python",
   "pygments_lexer": "ipython3",
   "version": "3.9.13"
  }
 },
 "nbformat": 4,
 "nbformat_minor": 5
}
