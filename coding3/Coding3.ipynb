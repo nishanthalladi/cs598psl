{
 "cells": [
  {
   "cell_type": "code",
   "execution_count": 2,
   "id": "088159f7-1bd6-4781-9f69-4eb8be39c06c",
   "metadata": {
    "tags": []
   },
   "outputs": [],
   "source": [
    "from skmisc.loess import loess, loess_outputs\n",
    "from sklearn.cluster import KMeans\n",
    "import numpy as np\n",
    "import csv\n",
    "from scipy.interpolate import splev, interp1d"
   ]
  },
  {
   "cell_type": "code",
   "execution_count": 3,
   "id": "77b76b06-feba-46a6-8aa0-54b183013786",
   "metadata": {
    "tags": []
   },
   "outputs": [],
   "source": [
    "data = [[], []]\n",
    "with open('Coding3_Data.csv', newline='') as csvfile:\n",
    "    reader = csv.reader(csvfile, delimiter=',')\n",
    "    for row in reader:\n",
    "        data[0].append(row[0])\n",
    "        data[1].append(row[1])\n",
    "data[0] = np.array(data[0][1:], dtype='float64')\n",
    "data[1] = np.array(data[1][1:], dtype='float64')\n",
    "\n",
    "data = np.asarray(data)"
   ]
  },
  {
   "cell_type": "code",
   "execution_count": 4,
   "id": "a7e079ea-28dd-4738-88b4-658f4fc3dd4b",
   "metadata": {
    "tags": []
   },
   "outputs": [],
   "source": [
    "def lcv(y, y_hat, S):\n",
    "    return sum(np.square((y - y_hat) / (1 - S))) / len(x)"
   ]
  },
  {
   "cell_type": "code",
   "execution_count": 5,
   "id": "b242bca8-f710-4a83-82d2-f869ed310396",
   "metadata": {
    "tags": []
   },
   "outputs": [],
   "source": [
    "def gcv(y, y_hat, S):\n",
    "    return sum(np.square((y - y_hat) / (1 - (1 / len(x)) * sum(S)))) / len(x)\n"
   ]
  },
  {
   "cell_type": "code",
   "execution_count": 6,
   "id": "73497140-0cfb-44dc-b0d3-90f07eb8e106",
   "metadata": {
    "tags": []
   },
   "outputs": [],
   "source": [
    "spans = np.arange(0.2, 0.95, 0.05)\n",
    "lcvs = []\n",
    "gcvs = []\n",
    "x, y = data[0], data[1]\n",
    "for span in spans:\n",
    "    loess_model = loess(x, y)\n",
    "    loess_model.model.span = span\n",
    "    loess_model.fit()\n",
    "    S = loess_model.outputs.diagonal\n",
    "    y_hat = loess_model.outputs.fitted_values\n",
    "    \n",
    "    lcvs.append(lcv(y, y_hat, S))\n",
    "    gcvs.append(gcv(y, y_hat, S))\n",
    "    \n",
    "lcvs = np.array(lcvs)\n",
    "gcvs = np.array(gcvs)\n",
    "best_span_lcv = spans[np.argmin(lcvs)]\n",
    "best_span_gcv = spans[np.argmin(gcvs)]"
   ]
  },
  {
   "cell_type": "code",
   "execution_count": 7,
   "id": "f53b64ee-1b70-47bb-9e5e-c6e1ed213a61",
   "metadata": {
    "tags": []
   },
   "outputs": [
    {
     "name": "stdout",
     "output_type": "stream",
     "text": [
      "Best span chosen by LCV:  0.49999999999999994\n",
      "Best span chosen by GCV:  0.49999999999999994\n"
     ]
    }
   ],
   "source": [
    "print('Best span chosen by LCV: ', best_span_lcv)\n",
    "print('Best span chosen by GCV: ', best_span_gcv)"
   ]
  },
  {
   "cell_type": "markdown",
   "id": "79b47309-b48c-4ac6-ae59-a75fd0ffb774",
   "metadata": {},
   "source": [
    "Part II"
   ]
  },
  {
   "cell_type": "code",
   "execution_count": 27,
   "id": "e6f395e6-81e1-452d-9a1c-cf7aa6ce1b38",
   "metadata": {
    "tags": []
   },
   "outputs": [
    {
     "data": {
      "text/plain": [
       "array([[ 1.36538462,  2.36538462,  0.36538462, ..., -3.63461538,\n",
       "        -4.63461538,  0.36538462],\n",
       "       [ 3.01923077,  2.01923077, -0.98076923, ..., -2.98076923,\n",
       "         2.01923077, -3.98076923],\n",
       "       [-1.69230769,  2.30769231, -0.69230769, ..., -0.69230769,\n",
       "        -0.69230769, -1.69230769],\n",
       "       ...,\n",
       "       [ 0.5       , -0.5       , -0.5       , ..., -0.5       ,\n",
       "         3.5       ,  2.5       ],\n",
       "       [-0.32692308, -0.32692308, -0.32692308, ..., -0.32692308,\n",
       "         1.67307692, -0.32692308],\n",
       "       [-0.30769231,  0.69230769, -0.30769231, ..., -0.30769231,\n",
       "        -0.30769231,  0.69230769]])"
      ]
     },
     "execution_count": 27,
     "metadata": {},
     "output_type": "execute_result"
    }
   ],
   "source": [
    "data = np.loadtxt(open(\"Sales_Transactions_Dataset_Weekly.csv\", \"rb\"), delimiter=\",\", skiprows=1, usecols=range(1,53))\n",
    " \n",
    "x = data - np.mean(data, axis=1, keepdims=True)\n",
    "np.shape(x)\n",
    "x"
   ]
  },
  {
   "cell_type": "code",
   "execution_count": 28,
   "id": "c40a2470-4567-44bc-8f4b-2d55cd373fb5",
   "metadata": {
    "tags": []
   },
   "outputs": [],
   "source": [
    "# converted from R's ns()\n",
    "def ns(x, df=None, knots=None, boundary_knots=None, include_intercept=False):\n",
    "    degree = 3\n",
    "    \n",
    "    if boundary_knots is None:\n",
    "        boundary_knots = [np.min(x), np.max(x)]\n",
    "    else:\n",
    "        boundary_knots = np.sort(boundary_knots).tolist()\n",
    "\n",
    "    oleft = x < boundary_knots[0]\n",
    "    oright = x > boundary_knots[1]\n",
    "    outside = oleft | oright\n",
    "    inside = ~outside\n",
    "\n",
    "    if df is not None:\n",
    "        nIknots = df - 1 - include_intercept\n",
    "        if nIknots < 0:\n",
    "            nIknots = 0\n",
    "            \n",
    "        if nIknots > 0:\n",
    "            knots = np.linspace(0, 1, num=nIknots + 2)[1:-1]\n",
    "            knots = np.quantile(x[~outside], knots)\n",
    "\n",
    "    Aknots = np.sort(np.concatenate((boundary_knots * 4, knots)))\n",
    "    n_bases = len(Aknots) - (degree + 1)\n",
    "\n",
    "    if outside.any():\n",
    "        basis = np.empty((x.shape[0], n_bases), dtype=float)\n",
    "        e = 1 / 4 # in theory anything in (0, 1); was (implicitly) 0 in R <= 3.2.2\n",
    "\n",
    "        if oleft.any():\n",
    "            k_pivot = boundary_knots[0]\n",
    "            xl = x[oleft] - k_pivot\n",
    "            xl = np.c_[np.ones(xl.shape[0]), xl]\n",
    "\n",
    "            # equivalent to splineDesign(Aknots, rep(k.pivot, ord), ord, derivs)\n",
    "            tt = np.empty((xl.shape[1], n_bases), dtype=float)\n",
    "            for j in range(xl.shape[1]):\n",
    "                for i in range(n_bases):\n",
    "                    coefs = np.zeros((n_bases,))\n",
    "                    coefs[i] = 1\n",
    "                    tt[j, i] = splev(k_pivot, (Aknots, coefs, degree), der=j)\n",
    "\n",
    "            basis[oleft, :] = xl @ tt\n",
    "\n",
    "        if oright.any():\n",
    "            k_pivot = boundary_knots[1]\n",
    "            xr = x[oright] - k_pivot\n",
    "            xr = np.c_[np.ones(xr.shape[0]), xr]\n",
    "\n",
    "            tt = np.empty((xr.shape[1], n_bases), dtype=float)\n",
    "            for j in range(xr.shape[1]):\n",
    "                for i in range(n_bases):\n",
    "                    coefs = np.zeros((n_bases,))\n",
    "                    coefs[i] = 1\n",
    "                    tt[j, i] = splev(k_pivot, (Aknots, coefs, degree), der=j)\n",
    "                    \n",
    "            basis[oright, :] = xr @ tt\n",
    "        \n",
    "        if inside.any():\n",
    "            xi = x[inside]\n",
    "            tt = np.empty((len(xi), n_bases), dtype=float)\n",
    "            for i in range(n_bases):\n",
    "                coefs = np.zeros((n_bases,))\n",
    "                coefs[i] = 1\n",
    "                tt[:, i] = splev(xi, (Aknots, coefs, degree))\n",
    "\n",
    "            basis[inside, :] = tt\n",
    "    else:\n",
    "        basis = np.empty((x.shape[0], n_bases), dtype=float)\n",
    "        for i in range(n_bases):\n",
    "            coefs = np.zeros((n_bases,))\n",
    "            coefs[i] = 1\n",
    "            basis[:, i] = splev(x, (Aknots, coefs, degree))\n",
    "\n",
    "    const = np.empty((2, n_bases), dtype=float)\n",
    "    for i in range(n_bases):\n",
    "        coefs = np.zeros((n_bases,))\n",
    "        coefs[i] = 1\n",
    "        const[:, i] = splev(boundary_knots, (Aknots, coefs, degree), der=2)\n",
    "\n",
    "    if include_intercept is False:\n",
    "        basis = basis[:, 1:]\n",
    "        const = const[:, 1:]\n",
    "\n",
    "    qr_const = np.linalg.qr(const.T, mode='complete')[0]\n",
    "    basis = (qr_const.T @ basis.T).T[:, 2:]\n",
    "\n",
    "    return basis"
   ]
  },
  {
   "cell_type": "code",
   "execution_count": 29,
   "id": "36bb79b3-9480-4ad4-b0b3-7e99dce0022d",
   "metadata": {
    "tags": []
   },
   "outputs": [
    {
     "data": {
      "text/plain": [
       "(811, 9)"
      ]
     },
     "execution_count": 29,
     "metadata": {},
     "output_type": "execute_result"
    }
   ],
   "source": [
    "F = ns(x[3,:], df=10)\n",
    "#F = ns(x, df=10)\n",
    "F = F[:,1:]\n",
    "np.shape(F)\n",
    "\n",
    "BT = np.linalg.inv(F.T @ F) @ F.T @ x.T\n",
    "B = BT.T\n",
    "np.shape(B)"
   ]
  },
  {
   "cell_type": "code",
   "execution_count": null,
   "id": "7f787503-4c98-4799-8966-b4bcc038aebe",
   "metadata": {},
   "outputs": [],
   "source": []
  }
 ],
 "metadata": {
  "kernelspec": {
   "display_name": "Python 3 (ipykernel)",
   "language": "python",
   "name": "python3"
  },
  "language_info": {
   "codemirror_mode": {
    "name": "ipython",
    "version": 3
   },
   "file_extension": ".py",
   "mimetype": "text/x-python",
   "name": "python",
   "nbconvert_exporter": "python",
   "pygments_lexer": "ipython3",
   "version": "3.11.4"
  }
 },
 "nbformat": 4,
 "nbformat_minor": 5
}
