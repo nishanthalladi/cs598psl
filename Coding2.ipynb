{
 "cells": [
  {
   "cell_type": "markdown",
   "id": "40056389-f6df-464e-ae39-ca3b05520bb4",
   "metadata": {},
   "source": [
    "# Part 1"
   ]
  },
  {
   "cell_type": "code",
   "execution_count": 7,
   "id": "cab0f10d-4ff1-475f-9009-35d8d53b0ec3",
   "metadata": {},
   "outputs": [],
   "source": [
    "import numpy as np\n",
    "import pandas as pd\n",
    "import matplotlib.pyplot as plt"
   ]
  },
  {
   "cell_type": "code",
   "execution_count": 8,
   "id": "c16810b5-0510-4c8f-9b8a-a5d8da18089b",
   "metadata": {},
   "outputs": [],
   "source": [
    "myData = pd.read_csv(\"Coding2_Data.csv\")\n",
    "var_names = myData.columns\n",
    "y = myData[['Y']].to_numpy()\n",
    "X = myData.drop(['Y'], axis = 1).to_numpy()"
   ]
  },
  {
   "cell_type": "code",
   "execution_count": 9,
   "id": "d300f47a-d0aa-45db-b9a5-369436428f13",
   "metadata": {},
   "outputs": [
    {
     "data": {
      "text/plain": [
       "((506, 13), 506)"
      ]
     },
     "execution_count": 9,
     "metadata": {},
     "output_type": "execute_result"
    }
   ],
   "source": [
    "X.shape, len(y)"
   ]
  },
  {
   "cell_type": "markdown",
   "id": "348b0700-5ad0-4f27-808d-6649c3ee0581",
   "metadata": {},
   "source": [
    "## CD for Lasso"
   ]
  },
  {
   "cell_type": "code",
   "execution_count": 19,
   "id": "018ece15-e69c-4a1f-a833-0e191ebd1208",
   "metadata": {},
   "outputs": [],
   "source": [
    "def one_var_lasso(r, x, lam):\n",
    "    a = (r.T @ x) / np.square(np.linalg.norm(x))\n",
    "    n = 2 * r.size * lam / np.square(np.linalg.norm(x))\n",
    "    if a > n/2:\n",
    "        return a - n/2\n",
    "    elif abs(a) <= n/2:\n",
    "        return 0\n",
    "    else:\n",
    "        return a + n/2"
   ]
  },
  {
   "cell_type": "code",
   "execution_count": null,
   "id": "ac611b47-0ced-421b-9e4f-357a758439c9",
   "metadata": {},
   "outputs": [],
   "source": [
    "def MyLasso(X, y, lam_seq, maxit = 100):\n",
    "    \n",
    "    # Input\n",
    "    # X: n-by-p design matrix without the intercept \n",
    "    # y: n-by-1 response vector \n",
    "    # lam.seq: sequence of lambda values (arranged from large to small)\n",
    "    # maxit: number of updates for each lambda \n",
    "    \n",
    "    # Output\n",
    "    # B: a (p+1)-by-len(lam.seq) coefficient matrix \n",
    "    #    with the first row being the intercept sequence \n",
    "\n",
    "  \n",
    "    n, p = X.shape\n",
    "    nlam = len(lam_seq)\n",
    "    B = np.zeros((p+1, nlam))\n",
    "    \n",
    "    ##############################\n",
    "    # YOUR CODE: \n",
    "    # (1) newX = Standardizad X; \n",
    "    # (2) Record the centers and scales used in (1) \n",
    "    ##############################\n",
    "    \n",
    "    centers = X.mean(0)\n",
    "    scales = X.std(0)\n",
    "    newX = (X - centers) / scales\n",
    "    \n",
    "\n",
    "    # Initilize coef vector b and residual vector r\n",
    "    b = np.zeros(p)\n",
    "    r = y\n",
    "\n",
    "    \n",
    "    # Triple nested loop\n",
    "    for m in range(nlam):\n",
    "        for step in range(maxit):\n",
    "            for j in range(p):\n",
    "                X_j = newX[:, j].reshape(-1,1)\n",
    "                r = r + X_j * b[j]\n",
    "                b[j] = one_var_lasso(r, X_j, lam_seq[m])\n",
    "                r = r - X_j * b[j]\n",
    "        B[1:, m] = b \n",
    "    \n",
    "    ##############################\n",
    "    # YOUR CODE:\n",
    "    # Scale back the coefficients;\n",
    "    # Update the intercepts stored in B[, 1] (shouldn't it be B[1, ] ???!!!)\n",
    "    ##############################\n",
    "    \n",
    "    b[1:,] = b[1:,] * scales + centers\n",
    "    # where are the intercepts?\n",
    "    \n",
    "    return(B)"
   ]
  },
  {
   "cell_type": "code",
   "execution_count": null,
   "id": "1345af64-981a-4138-bc2c-40a1f51f2145",
   "metadata": {},
   "outputs": [],
   "source": [
    "log_lam_seq = np.linspace(-1, -8, num = 80)\n",
    "lam_seq = np.exp(log_lam_seq)\n",
    "myout = MyLasso(X, y, lam_seq, maxit = 100)"
   ]
  },
  {
   "cell_type": "code",
   "execution_count": null,
   "id": "3a460121-1103-4af3-be5a-e9e054e58a0a",
   "metadata": {},
   "outputs": [],
   "source": [
    "p, _ = myout.shape\n",
    "plt.figure(figsize = (12,8))\n",
    "\n",
    "for i in range(p-1):\n",
    "    plt.plot(log_lam_seq, myout[i+1, :], label = var_names[i])\n",
    "\n",
    "plt.xlabel('Log Lambda')\n",
    "plt.ylabel('Coefficients')\n",
    "plt.title('Lasso Paths - Numpy implementation')\n",
    "plt.legend()\n",
    "plt.axis('tight')"
   ]
  },
  {
   "cell_type": "code",
   "execution_count": null,
   "id": "a220b044-adad-4c4b-8717-c74833005cf0",
   "metadata": {},
   "outputs": [],
   "source": [
    "lasso_coef = pd.read_csv(\"Coding2_lasso_coefs.csv\").to_numpy()\n",
    "lasso_coef.shape"
   ]
  },
  {
   "cell_type": "code",
   "execution_count": 1,
   "id": "dbcf23b6-8138-417c-84fc-1028b3841509",
   "metadata": {},
   "outputs": [
    {
     "ename": "NameError",
     "evalue": "name 'myout' is not defined",
     "output_type": "error",
     "traceback": [
      "\u001b[0;31m---------------------------------------------------------------------------\u001b[0m",
      "\u001b[0;31mNameError\u001b[0m                                 Traceback (most recent call last)",
      "\u001b[0;32m/var/folders/rq/tkmv0vx10nn5pf21zrrdkvgc0000gp/T/ipykernel_11489/4264469466.py\u001b[0m in \u001b[0;36m<module>\u001b[0;34m\u001b[0m\n\u001b[0;32m----> 1\u001b[0;31m \u001b[0mabs\u001b[0m\u001b[0;34m(\u001b[0m\u001b[0mmyout\u001b[0m \u001b[0;34m-\u001b[0m \u001b[0mlasso_coef\u001b[0m\u001b[0;34m)\u001b[0m\u001b[0;34m.\u001b[0m\u001b[0mmax\u001b[0m\u001b[0;34m(\u001b[0m\u001b[0;34m)\u001b[0m\u001b[0;34m\u001b[0m\u001b[0;34m\u001b[0m\u001b[0m\n\u001b[0m",
      "\u001b[0;31mNameError\u001b[0m: name 'myout' is not defined"
     ]
    }
   ],
   "source": [
    "abs(myout - lasso_coef).max()"
   ]
  },
  {
   "cell_type": "markdown",
   "id": "827f8e50-30c1-4b27-b49c-985c97da3990",
   "metadata": {},
   "source": [
    "# Part 2"
   ]
  },
  {
   "cell_type": "code",
   "execution_count": 20,
   "id": "429bd8dd-1f5d-43aa-a297-0ea81430e7ae",
   "metadata": {},
   "outputs": [],
   "source": [
    "import pandas as pd\n",
    "import numpy as np\n",
    "import matplotlib.pyplot as plt\n",
    "\n",
    "from sklearn.metrics import mean_squared_error\n",
    "from sklearn.model_selection import train_test_split\n",
    "from sklearn.linear_model import LinearRegression as lm\n",
    "from sklearn.linear_model import Ridge, RidgeCV, Lasso, LassoCV\n",
    "\n",
    "from sklearn.decomposition import PCA\n",
    "from sklearn.preprocessing import StandardScaler\n",
    "from sklearn.pipeline import Pipeline"
   ]
  },
  {
   "cell_type": "code",
   "execution_count": 21,
   "id": "b6dbca19-aab9-4761-8c2c-d432ba0a2e10",
   "metadata": {},
   "outputs": [],
   "source": [
    "url = \"https://raw.githubusercontent.com/liangfgithub/liangfgithub.github.io/master/Data/Coding2_Data2.csv\"\n",
    "myData = pd.read_csv(url)\n",
    "# myData.head()\n",
    "Y = myData['Y']\n",
    "X = myData.drop(['Y'], axis = 1)"
   ]
  },
  {
   "cell_type": "code",
   "execution_count": null,
   "id": "c4b507e9-a365-4aa2-9a91-19024372dca7",
   "metadata": {},
   "outputs": [],
   "source": [
    "X.shape, len(Y)"
   ]
  },
  {
   "cell_type": "code",
   "execution_count": null,
   "id": "03cedbb4-9396-4261-88e1-7db2e9eca9c4",
   "metadata": {},
   "outputs": [],
   "source": [
    "n = len(Y)\n",
    "indices = np.arange(0, n)\n",
    "np.random.shuffle(indices)\n",
    "test_ind = indices[:int(np.floor(0.25*n))]\n",
    "train_ind = indices[len(test_ind):]\n",
    "\n",
    "# Splitting the data into training and testing sets\n",
    "X_train = X.iloc[train_ind]\n",
    "Y_train = Y[train_ind]\n",
    "X_test = X.iloc[test_ind]\n",
    "Y_test = Y[test_ind]"
   ]
  },
  {
   "cell_type": "code",
   "execution_count": null,
   "id": "169691ca-1814-4004-9434-bee35db93a40",
   "metadata": {},
   "outputs": [],
   "source": [
    "full = lm().fit(X_train, Y_train)\n",
    "mean_squared_error(Y_test, full.predict(X_test))"
   ]
  },
  {
   "cell_type": "code",
   "execution_count": null,
   "id": "d16f0481-db01-45d1-b6c6-4ccb278fac78",
   "metadata": {},
   "outputs": [],
   "source": [
    "ridge_alphas = np.logspace(-10, 1, 100)\n",
    "ridgecv = RidgeCV(alphas = ridge_alphas, cv = 10, \n",
    "                  scoring = 'neg_mean_squared_error', \n",
    "                  normalize = True)\n",
    "ridgecv.fit(X_train, Y_train)\n",
    "ridgecv.alpha_"
   ]
  },
  {
   "cell_type": "code",
   "execution_count": null,
   "id": "70e545d9-dbb7-43e8-a654-4dac60ca9f51",
   "metadata": {},
   "outputs": [],
   "source": [
    "ridge_model = Ridge(alpha = ridgecv.alpha_, normalize = True)\n",
    "ridge_model.fit(X_train, Y_train)\n",
    "mean_squared_error(Y_test, ridge_model.predict(X_test))"
   ]
  },
  {
   "cell_type": "code",
   "execution_count": null,
   "id": "db8e10b5-6d4d-494d-be7e-af61f977f32a",
   "metadata": {},
   "outputs": [],
   "source": [
    "import warnings\n",
    "from sklearn.exceptions import ConvergenceWarning\n",
    "warnings.filterwarnings(\"ignore\", category=ConvergenceWarning)"
   ]
  },
  {
   "cell_type": "code",
   "execution_count": null,
   "id": "7e84dd7a-92c2-43c8-99d0-180683bcef17",
   "metadata": {},
   "outputs": [],
   "source": [
    "lasso_alphas = np.logspace(-10, 1, 100)\n",
    "lassocv = LassoCV(alphas = lasso_alphas, cv = 10, \n",
    "                  normalize = True)\n",
    "lassocv.fit(X_train, Y_train)\n",
    "lassocv.alpha_"
   ]
  },
  {
   "cell_type": "code",
   "execution_count": null,
   "id": "213ff0e9-9fce-4b52-a9f1-75249e322872",
   "metadata": {},
   "outputs": [],
   "source": [
    "mean_mse = np.mean(lassocv.mse_path_, axis=1)\n",
    "std_mse = np.std(lassocv.mse_path_, axis=1) / np.sqrt(10) \n",
    "\n",
    "cv_alphas = lassocv.alphas_\n",
    "min_idx = np.argmin(mean_mse)\n",
    "\n",
    "alpha_min = cv_alphas[min_idx]\n",
    "\n",
    "threshold = mean_mse[min_idx] + std_mse[min_idx]\n",
    "alpha_1se = max(cv_alphas[np.where(mean_mse <= threshold)])\n",
    "\n",
    "alpha_min, alpha_1se  #alpha_min = lassocv.alpha_"
   ]
  },
  {
   "cell_type": "code",
   "execution_count": null,
   "id": "c5626bf3-d2d2-45e2-9b1c-ea9e29837b83",
   "metadata": {},
   "outputs": [],
   "source": [
    "lasso_model_min = Lasso(alpha = alpha_min, normalize = True, max_iter=10000)\n",
    "lasso_model_min.fit(X_train, Y_train)\n",
    "mean_squared_error(Y_test, lasso_model_min.predict(X_test))"
   ]
  },
  {
   "cell_type": "code",
   "execution_count": null,
   "id": "a48c6347-079d-448c-a63f-700bb8edcfb1",
   "metadata": {},
   "outputs": [],
   "source": [
    "lasso_model_1se = Lasso(alpha = alpha_1se, normalize = True, max_iter=10000)\n",
    "lasso_model_1se.fit(X_train, Y_train)\n",
    "mean_squared_error(Y_test, lasso_model_1se.predict(X_test))"
   ]
  },
  {
   "cell_type": "code",
   "execution_count": null,
   "id": "72a64d7d-9777-40c5-8304-31ae2d139fa5",
   "metadata": {},
   "outputs": [],
   "source": [
    "nonzero_indices = np.where(lasso_model_1se.coef_ != 0)[0]\n",
    "lm_refit = lm()\n",
    "lm_refit.fit(X_train.iloc[:, nonzero_indices], Y_train)\n",
    "mean_squared_error(Y_test, lm_refit.predict(X_test.iloc[:, nonzero_indices]))"
   ]
  },
  {
   "cell_type": "code",
   "execution_count": null,
   "id": "72f5ee34-5ed9-466e-8e30-4ac22b7fc191",
   "metadata": {},
   "outputs": [],
   "source": [
    "class PCR(object):\n",
    "\n",
    "    def __init__(self, num_folds=10):\n",
    "        self.folds = num_folds\n",
    "\n",
    "    def fit(self, X, Y):\n",
    "        n, p = X.shape\n",
    "        indices = np.arange(n)\n",
    "        np.random.shuffle(indices)\n",
    "        index_sets = np.array_split(indices, self.folds)\n",
    "        ncomp = min(p, n - 1 - max([len(i) for i in index_sets]))\n",
    "        cv_err = np.zeros(ncomp)\n",
    "\n",
    "        for ifold in range(self.folds):\n",
    "            train_inds =  np.delete(index_sets, obj=ifold, axis=0).ravel()\n",
    "            test_inds = index_sets[ifold]\n",
    "\n",
    "            X_train = X[train_inds, :]\n",
    "            pipeline = Pipeline([('scaling', StandardScaler()), ('pca', PCA())])\n",
    "            pipeline.fit(X_train)\n",
    "            X_train = pipeline.transform(X_train)\n",
    "            coefs = Y[train_inds].T @ X_train / np.sum(X_train**2, axis=0)\n",
    "            b0 = np.mean(Y[train_inds])\n",
    "\n",
    "            X_test = pipeline.transform(X[test_inds, :])\n",
    "\n",
    "            for k in np.arange(ncomp):\n",
    "                preds = X_test[:, :k] @ coefs.T[:k] + b0\n",
    "                cv_err[k] += cv_err[k] + np.sum((Y[test_inds]-preds)**2)\n",
    "\n",
    "        min_ind = np.argmin(cv_err)\n",
    "        self.ncomp = min_ind+1\n",
    "        pipeline = Pipeline([('scaling', StandardScaler()), ('pca', PCA(n_components=self.ncomp))])\n",
    "        self.transform = pipeline.fit(X)\n",
    "        self.model = lm().fit(self.transform.transform(X), Y)\n",
    "\n",
    "    def predict(self, X):\n",
    "        X_ = self.transform.transform(X)\n",
    "        return self.model.predict(X_)"
   ]
  },
  {
   "cell_type": "code",
   "execution_count": null,
   "id": "140d46bd-2145-4334-8c0b-f76a9adee818",
   "metadata": {},
   "outputs": [],
   "source": [
    "pcr = PCR()\n",
    "pcr.fit(X_train.to_numpy(), Y_train.to_numpy())\n",
    "mean_squared_error(Y_test, pcr.predict(X_test.to_numpy()))"
   ]
  }
 ],
 "metadata": {
  "kernelspec": {
   "display_name": "Python 3 (ipykernel)",
   "language": "python",
   "name": "python3"
  },
  "language_info": {
   "codemirror_mode": {
    "name": "ipython",
    "version": 3
   },
   "file_extension": ".py",
   "mimetype": "text/x-python",
   "name": "python",
   "nbconvert_exporter": "python",
   "pygments_lexer": "ipython3",
   "version": "3.9.13"
  }
 },
 "nbformat": 4,
 "nbformat_minor": 5
}
