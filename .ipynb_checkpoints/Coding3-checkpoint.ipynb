{
 "cells": [
  {
   "cell_type": "code",
   "execution_count": null,
   "id": "088159f7-1bd6-4781-9f69-4eb8be39c06c",
   "metadata": {},
   "outputs": [],
   "source": [
    "import skmisc as skm\n",
    "import numpy as np"
   ]
  },
  {
   "cell_type": "code",
   "execution_count": null,
   "id": "9454a35b-d2f4-474f-bf2a-eb2259982b91",
   "metadata": {},
   "outputs": [],
   "source": [
    "x = skm.loess.loess_outputs"
   ]
  }
 ],
 "metadata": {
  "kernelspec": {
   "display_name": "Python 3 (ipykernel)",
   "language": "python",
   "name": "python3"
  },
  "language_info": {
   "codemirror_mode": {
    "name": "ipython",
    "version": 3
   },
   "file_extension": ".py",
   "mimetype": "text/x-python",
   "name": "python",
   "nbconvert_exporter": "python",
   "pygments_lexer": "ipython3",
   "version": "3.9.13"
  }
 },
 "nbformat": 4,
 "nbformat_minor": 5
}
