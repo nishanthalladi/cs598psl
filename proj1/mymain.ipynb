{
 "cells": [
  {
   "cell_type": "code",
   "execution_count": 94,
   "id": "79f2624d",
   "metadata": {},
   "outputs": [],
   "source": [
    "#Project 1\n",
    "import pandas as pd\n",
    "from sklearn.linear_model import Lasso, Ridge\n",
    "import numpy as np\n",
    "from sklearn.preprocessing import OneHotEncoder\n",
    "from sklearn.linear_model import RidgeCV\n",
    "from sklearn.impute import SimpleImputer\n",
    "\n",
    "# Read in data\n",
    "train = pd.Series({\n",
    "    \"train_1\": pd.read_csv(\"fold1/train.csv\"),\n",
    "    \"train_2\": pd.read_csv(\"fold2/train.csv\"),\n",
    "    \"train_3\": pd.read_csv(\"fold3/train.csv\"),\n",
    "    \"train_4\": pd.read_csv(\"fold4/train.csv\"),\n",
    "    \"train_5\": pd.read_csv(\"fold5/train.csv\"),\n",
    "    \"train_6\": pd.read_csv(\"fold6/train.csv\"),\n",
    "    \"train_7\": pd.read_csv(\"fold7/train.csv\"),\n",
    "    \"train_8\": pd.read_csv(\"fold8/train.csv\"),\n",
    "    \"train_9\": pd.read_csv(\"fold9/train.csv\"),\n",
    "    \"train_10\": pd.read_csv(\"fold10/train.csv\")\n",
    "    })\n",
    "\n",
    "train_x = pd.Series({\n",
    "    \"train_x1\": train[\"train_1\"].drop(columns = ['Sale_Price', 'PID']),\n",
    "    \"train_x2\": train[\"train_2\"].drop(columns = ['Sale_Price', 'PID']),\n",
    "    \"train_x3\": train[\"train_3\"].drop(columns = ['Sale_Price', 'PID']),\n",
    "    \"train_x4\": train[\"train_4\"].drop(columns = ['Sale_Price', 'PID']),\n",
    "    \"train_x5\": train[\"train_5\"].drop(columns = ['Sale_Price', 'PID']),\n",
    "    \"train_x6\": train[\"train_6\"].drop(columns = ['Sale_Price', 'PID']),\n",
    "    \"train_x7\": train[\"train_7\"].drop(columns = ['Sale_Price', 'PID']),\n",
    "    \"train_x8\": train[\"train_8\"].drop(columns = ['Sale_Price', 'PID']),\n",
    "    \"train_x9\": train[\"train_9\"].drop(columns = ['Sale_Price', 'PID']),\n",
    "    \"train_x10\": train[\"train_10\"].drop(columns = ['Sale_Price', 'PID']),\n",
    "    })\n",
    "\n",
    "train_y = pd.Series({\n",
    "    \"train_y1\": train[\"train_1\"]['Sale_Price'],\n",
    "    \"train_y2\": train[\"train_2\"]['Sale_Price'],\n",
    "    \"train_y3\": train[\"train_3\"]['Sale_Price'],\n",
    "    \"train_y4\": train[\"train_4\"]['Sale_Price'],\n",
    "    \"train_y5\": train[\"train_5\"]['Sale_Price'],\n",
    "    \"train_y6\": train[\"train_6\"]['Sale_Price'],\n",
    "    \"train_y7\": train[\"train_7\"]['Sale_Price'],\n",
    "    \"train_y8\": train[\"train_8\"]['Sale_Price'],\n",
    "    \"train_y9\": train[\"train_9\"]['Sale_Price'],\n",
    "    \"train_y10\": train[\"train_10\"]['Sale_Price'],\n",
    "    })\n",
    "\n",
    "test_x = pd.Series({\n",
    "    \"test_x1\": pd.read_csv(\"fold1/test.csv\").drop(columns = ['PID']),\n",
    "    \"test_x2\": pd.read_csv(\"fold2/test.csv\").drop(columns = ['PID']),\n",
    "    \"test_x3\": pd.read_csv(\"fold3/test.csv\").drop(columns = ['PID']),\n",
    "    \"test_x4\": pd.read_csv(\"fold4/test.csv\").drop(columns = ['PID']),\n",
    "    \"test_x5\": pd.read_csv(\"fold5/test.csv\").drop(columns = ['PID']),\n",
    "    \"test_x6\": pd.read_csv(\"fold6/test.csv\").drop(columns = ['PID']),\n",
    "    \"test_x7\": pd.read_csv(\"fold7/test.csv\").drop(columns = ['PID']),\n",
    "    \"test_x8\": pd.read_csv(\"fold8/test.csv\").drop(columns = ['PID']),\n",
    "    \"test_x9\": pd.read_csv(\"fold9/test.csv\").drop(columns = ['PID']),\n",
    "    \"test_x10\": pd.read_csv(\"fold10/test.csv\").drop(columns = ['PID'])\n",
    "    })\n",
    "\n",
    "test_y = pd.Series({\n",
    "    \"test_y1\": pd.read_csv(\"fold1/test_y.csv\")['Sale_Price'],\n",
    "    \"test_y2\": pd.read_csv(\"fold2/test_y.csv\")['Sale_Price'],\n",
    "    \"test_y3\": pd.read_csv(\"fold3/test_y.csv\")['Sale_Price'],\n",
    "    \"test_y4\": pd.read_csv(\"fold4/test_y.csv\")['Sale_Price'],\n",
    "    \"test_y5\": pd.read_csv(\"fold5/test_y.csv\")['Sale_Price'],\n",
    "    \"test_y6\": pd.read_csv(\"fold6/test_y.csv\")['Sale_Price'],\n",
    "    \"test_y7\": pd.read_csv(\"fold7/test_y.csv\")['Sale_Price'],\n",
    "    \"test_y8\": pd.read_csv(\"fold8/test_y.csv\")['Sale_Price'],\n",
    "    \"test_y9\": pd.read_csv(\"fold9/test_y.csv\")['Sale_Price'],\n",
    "    \"test_y10\": pd.read_csv(\"fold10/test_y.csv\")['Sale_Price']\n",
    "    })"
   ]
  },
  {
   "cell_type": "code",
   "execution_count": 95,
   "id": "8e8f53da",
   "metadata": {},
   "outputs": [],
   "source": [
    "# TODO remove columns if we want"
   ]
  },
  {
   "cell_type": "code",
   "execution_count": 96,
   "id": "aa0712cf",
   "metadata": {},
   "outputs": [],
   "source": [
    "# encode train and fit encoder to train, then use fitted encoder to encode test\n",
    "for i in range(10):\n",
    "    enc = OneHotEncoder(handle_unknown='ignore')\n",
    "    train_x[i] = enc.fit_transform(train_x[i])\n",
    "    test_x[i] = enc.transform(test_x[i])\n",
    "\n",
    "    train_y[i] = np.log(train_y[i])"
   ]
  },
  {
   "cell_type": "code",
   "execution_count": 98,
   "id": "60838225",
   "metadata": {},
   "outputs": [
    {
     "ename": "AttributeError",
     "evalue": "'SingleBlockManager' object has no attribute 'as_array'",
     "output_type": "error",
     "traceback": [
      "\u001b[1;31m---------------------------------------------------------------------------\u001b[0m",
      "\u001b[1;31mAttributeError\u001b[0m                            Traceback (most recent call last)",
      "Cell \u001b[1;32mIn[98], line 1\u001b[0m\n\u001b[1;32m----> 1\u001b[0m train_x_arr \u001b[38;5;241m=\u001b[39mpd\u001b[38;5;241m.\u001b[39mDataFrame\u001b[38;5;241m.\u001b[39mto_numpy(train_x)\n\u001b[0;32m      2\u001b[0m train_y_arr \u001b[38;5;241m=\u001b[39mpd\u001b[38;5;241m.\u001b[39mDataFrame\u001b[38;5;241m.\u001b[39mto_numpy(train_y)\n\u001b[0;32m      3\u001b[0m test_x_arr \u001b[38;5;241m=\u001b[39m pd\u001b[38;5;241m.\u001b[39mDataFrame\u001b[38;5;241m.\u001b[39mto_numpy(test_x)\n",
      "File \u001b[1;32mC:\\ProgramData\\anaconda3\\Lib\\site-packages\\pandas\\core\\frame.py:1843\u001b[0m, in \u001b[0;36mDataFrame.to_numpy\u001b[1;34m(self, dtype, copy, na_value)\u001b[0m\n\u001b[0;32m   1841\u001b[0m \u001b[38;5;28;01mif\u001b[39;00m dtype \u001b[38;5;129;01mis\u001b[39;00m \u001b[38;5;129;01mnot\u001b[39;00m \u001b[38;5;28;01mNone\u001b[39;00m:\n\u001b[0;32m   1842\u001b[0m     dtype \u001b[38;5;241m=\u001b[39m np\u001b[38;5;241m.\u001b[39mdtype(dtype)\n\u001b[1;32m-> 1843\u001b[0m result \u001b[38;5;241m=\u001b[39m \u001b[38;5;28mself\u001b[39m\u001b[38;5;241m.\u001b[39m_mgr\u001b[38;5;241m.\u001b[39mas_array(dtype\u001b[38;5;241m=\u001b[39mdtype, copy\u001b[38;5;241m=\u001b[39mcopy, na_value\u001b[38;5;241m=\u001b[39mna_value)\n\u001b[0;32m   1844\u001b[0m \u001b[38;5;28;01mif\u001b[39;00m result\u001b[38;5;241m.\u001b[39mdtype \u001b[38;5;129;01mis\u001b[39;00m \u001b[38;5;129;01mnot\u001b[39;00m dtype:\n\u001b[0;32m   1845\u001b[0m     result \u001b[38;5;241m=\u001b[39m np\u001b[38;5;241m.\u001b[39marray(result, dtype\u001b[38;5;241m=\u001b[39mdtype, copy\u001b[38;5;241m=\u001b[39m\u001b[38;5;28;01mFalse\u001b[39;00m)\n",
      "\u001b[1;31mAttributeError\u001b[0m: 'SingleBlockManager' object has no attribute 'as_array'"
     ]
    }
   ],
   "source": [
    "train_x_arr =pd.DataFrame.to_numpy(train_x)\n",
    "train_y_arr =pd.DataFrame.to_numpy(train_y)\n",
    "test_x_arr = pd.DataFrame.to_numpy(test_x)\n",
    "test_y_arr = pd.DataFrame.to_numpy(test_y)"
   ]
  },
  {
   "cell_type": "code",
   "execution_count": null,
   "id": "aca4b051",
   "metadata": {},
   "outputs": [],
   "source": [
    "def runRidge(train_x, train_y, test_x):\n",
    "    rdg = RidgeCV()\n",
    "    rdg.fit(train_X, train_y)\n",
    "    rdg.score(train_X, train_y)\n",
    "    return rdg.predict(test_X)"
   ]
  },
  {
   "cell_type": "code",
   "execution_count": null,
   "id": "a692921a",
   "metadata": {},
   "outputs": [],
   "source": [
    "def log_RMSE(pred, actual):\n",
    "    return np.mean((pred - np.log(actual))**2) ** .5"
   ]
  },
  {
   "cell_type": "code",
   "execution_count": 59,
   "id": "29ac54c5",
   "metadata": {},
   "outputs": [
    {
     "ename": "AttributeError",
     "evalue": "columns not found",
     "output_type": "error",
     "traceback": [
      "\u001b[1;31m---------------------------------------------------------------------------\u001b[0m",
      "\u001b[1;31mAttributeError\u001b[0m                            Traceback (most recent call last)",
      "\u001b[1;32m~\\AppData\\Local\\Temp\\ipykernel_9224\\2584568660.py\u001b[0m in \u001b[0;36m<module>\u001b[1;34m\u001b[0m\n\u001b[0;32m     26\u001b[0m     \u001b[1;34m\"SalePrice\"\u001b[0m\u001b[1;33m\u001b[0m\u001b[1;33m\u001b[0m\u001b[0m\n\u001b[0;32m     27\u001b[0m ]\n\u001b[1;32m---> 28\u001b[1;33m \u001b[0mcategorical_features\u001b[0m \u001b[1;33m=\u001b[0m \u001b[0mtrain_X\u001b[0m\u001b[1;33m.\u001b[0m\u001b[0mcolumns\u001b[0m\u001b[1;33m.\u001b[0m\u001b[0mdifference\u001b[0m\u001b[1;33m(\u001b[0m\u001b[0mnumerical_features\u001b[0m\u001b[1;33m)\u001b[0m\u001b[1;33m\u001b[0m\u001b[1;33m\u001b[0m\u001b[0m\n\u001b[0m\u001b[0;32m     29\u001b[0m \u001b[1;33m\u001b[0m\u001b[0m\n\u001b[0;32m     30\u001b[0m \u001b[0mmost_frequent_imputer\u001b[0m \u001b[1;33m=\u001b[0m \u001b[0mSimpleImputer\u001b[0m\u001b[1;33m(\u001b[0m\u001b[0mstrategy\u001b[0m\u001b[1;33m=\u001b[0m\u001b[1;34m\"most_frequent\"\u001b[0m\u001b[1;33m)\u001b[0m\u001b[1;33m\u001b[0m\u001b[1;33m\u001b[0m\u001b[0m\n",
      "\u001b[1;32m~\\anaconda3\\lib\\site-packages\\scipy\\sparse\\base.py\u001b[0m in \u001b[0;36m__getattr__\u001b[1;34m(self, attr)\u001b[0m\n\u001b[0;32m    685\u001b[0m             \u001b[1;32mreturn\u001b[0m \u001b[0mself\u001b[0m\u001b[1;33m.\u001b[0m\u001b[0mgetnnz\u001b[0m\u001b[1;33m(\u001b[0m\u001b[1;33m)\u001b[0m\u001b[1;33m\u001b[0m\u001b[1;33m\u001b[0m\u001b[0m\n\u001b[0;32m    686\u001b[0m         \u001b[1;32melse\u001b[0m\u001b[1;33m:\u001b[0m\u001b[1;33m\u001b[0m\u001b[1;33m\u001b[0m\u001b[0m\n\u001b[1;32m--> 687\u001b[1;33m             \u001b[1;32mraise\u001b[0m \u001b[0mAttributeError\u001b[0m\u001b[1;33m(\u001b[0m\u001b[0mattr\u001b[0m \u001b[1;33m+\u001b[0m \u001b[1;34m\" not found\"\u001b[0m\u001b[1;33m)\u001b[0m\u001b[1;33m\u001b[0m\u001b[1;33m\u001b[0m\u001b[0m\n\u001b[0m\u001b[0;32m    688\u001b[0m \u001b[1;33m\u001b[0m\u001b[0m\n\u001b[0;32m    689\u001b[0m     \u001b[1;32mdef\u001b[0m \u001b[0mtranspose\u001b[0m\u001b[1;33m(\u001b[0m\u001b[0mself\u001b[0m\u001b[1;33m,\u001b[0m \u001b[0maxes\u001b[0m\u001b[1;33m=\u001b[0m\u001b[1;32mNone\u001b[0m\u001b[1;33m,\u001b[0m \u001b[0mcopy\u001b[0m\u001b[1;33m=\u001b[0m\u001b[1;32mFalse\u001b[0m\u001b[1;33m)\u001b[0m\u001b[1;33m:\u001b[0m\u001b[1;33m\u001b[0m\u001b[1;33m\u001b[0m\u001b[0m\n",
      "\u001b[1;31mAttributeError\u001b[0m: columns not found"
     ]
    }
   ],
   "source": [
    "# Alley : data description says NA means \"no alley access\"\n",
    "train.loc[:, \"Alley\"] = train.loc[:, \"Alley\"].fillna(\"None\")\n",
    "# BedroomAbvGr : NA most likely means 0\n",
    "train.loc[:, \"BedroomAbvGr\"] = train.loc[:, \"BedroomAbvGr\"].fillna(0)\n",
    "# BsmtQual etc : data description says NA for basement features is \"no basement\"\n",
    "train.loc[:, \"BsmtQual\"] = train.loc[:, \"BsmtQual\"].fillna(\"No\")\n",
    "train.loc[:, \"BsmtCond\"] = train.loc[:, \"BsmtCond\"].fillna(\"No\")\n",
    "train.loc[:, \"BsmtExposure\"] = train.loc[:, \"BsmtExposure\"].fillna(\"No\")\n",
    "train.loc[:, \"BsmtFinType1\"] = train.loc[:, \"BsmtFinType1\"].fillna(\"No\")\n",
    "train.loc[:, \"BsmtFinType2\"] = train.loc[:, \"BsmtFinType2\"].fillna(\"No\")\n",
    "train.loc[:, \"BsmtFullBath\"] = train.loc[:, \"BsmtFullBath\"].fillna(0)\n",
    "train.loc[:, \"BsmtHalfBath\"] = train.loc[:, \"BsmtHalfBath\"].fillna(0)\n",
    "train.loc[:, \"BsmtUnfSF\"] = train.loc[:, \"BsmtUnfSF\"].fillna(0)\n",
    "# CentralAir : NA most likely means No\n",
    "train.loc[:, \"CentralAir\"] = train.loc[:, \"CentralAir\"].fillna(\"N\")\n",
    "# Condition : NA most likely means Normal\n",
    "train.loc[:, \"Condition1\"] = train.loc[:, \"Condition1\"].fillna(\"Norm\")\n",
    "train.loc[:, \"Condition2\"] = train.loc[:, \"Condition2\"].fillna(\"Norm\")\n",
    "# EnclosedPorch : NA most likely means no enclosed porch\n",
    "train.loc[:, \"EnclosedPorch\"] = train.loc[:, \"EnclosedPorch\"].fillna(0)\n",
    "# External stuff : NA most likely means average\n",
    "train.loc[:, \"ExterCond\"] = train.loc[:, \"ExterCond\"].fillna(\"TA\")\n",
    "train.loc[:, \"ExterQual\"] = train.loc[:, \"ExterQual\"].fillna(\"TA\")\n",
    "# Fence : data description says NA means \"no fence\"\n",
    "train.loc[:, \"Fence\"] = train.loc[:, \"Fence\"].fillna(\"No\")\n",
    "# FireplaceQu : data description says NA means \"no fireplace\"\n",
    "train.loc[:, \"FireplaceQu\"] = train.loc[:, \"FireplaceQu\"].fillna(\"No\")\n",
    "train.loc[:, \"Fireplaces\"] = train.loc[:, \"Fireplaces\"].fillna(0)\n",
    "# Functional : data description says NA means typical\n",
    "train.loc[:, \"Functional\"] = train.loc[:, \"Functional\"].fillna(\"Typ\")\n",
    "# GarageType etc : data description says NA for garage features is \"no garage\"\n",
    "train.loc[:, \"GarageType\"] = train.loc[:, \"GarageType\"].fillna(\"No\")\n",
    "train.loc[:, \"GarageFinish\"] = train.loc[:, \"GarageFinish\"].fillna(\"No\")\n",
    "train.loc[:, \"GarageQual\"] = train.loc[:, \"GarageQual\"].fillna(\"No\")\n",
    "train.loc[:, \"GarageCond\"] = train.loc[:, \"GarageCond\"].fillna(\"No\")\n",
    "train.loc[:, \"GarageArea\"] = train.loc[:, \"GarageArea\"].fillna(0)\n",
    "train.loc[:, \"GarageCars\"] = train.loc[:, \"GarageCars\"].fillna(0)\n",
    "# HalfBath : NA most likely means no half baths above grade\n",
    "train.loc[:, \"HalfBath\"] = train.loc[:, \"HalfBath\"].fillna(0)\n",
    "# HeatingQC : NA most likely means typical\n",
    "train.loc[:, \"HeatingQC\"] = train.loc[:, \"HeatingQC\"].fillna(\"TA\")\n",
    "# KitchenAbvGr : NA most likely means 0\n",
    "train.loc[:, \"KitchenAbvGr\"] = train.loc[:, \"KitchenAbvGr\"].fillna(0)\n",
    "# KitchenQual : NA most likely means typical\n",
    "train.loc[:, \"KitchenQual\"] = train.loc[:, \"KitchenQual\"].fillna(\"TA\")\n",
    "# LotFrontage : NA most likely means no lot frontage\n",
    "train.loc[:, \"LotFrontage\"] = train.loc[:, \"LotFrontage\"].fillna(0)\n",
    "# LotShape : NA most likely means regular\n",
    "train.loc[:, \"LotShape\"] = train.loc[:, \"LotShape\"].fillna(\"Reg\")\n",
    "# MasVnrType : NA most likely means no veneer\n",
    "train.loc[:, \"MasVnrType\"] = train.loc[:, \"MasVnrType\"].fillna(\"None\")\n",
    "train.loc[:, \"MasVnrArea\"] = train.loc[:, \"MasVnrArea\"].fillna(0)\n",
    "# MiscFeature : data description says NA means \"no misc feature\"\n",
    "train.loc[:, \"MiscFeature\"] = train.loc[:, \"MiscFeature\"].fillna(\"No\")\n",
    "train.loc[:, \"MiscVal\"] = train.loc[:, \"MiscVal\"].fillna(0)\n",
    "# OpenPorchSF : NA most likely means no open porch\n",
    "train.loc[:, \"OpenPorchSF\"] = train.loc[:, \"OpenPorchSF\"].fillna(0)\n",
    "# PavedDrive : NA most likely means not paved\n",
    "train.loc[:, \"PavedDrive\"] = train.loc[:, \"PavedDrive\"].fillna(\"N\")\n",
    "# PoolQC : data description says NA means \"no pool\"\n",
    "train.loc[:, \"PoolQC\"] = train.loc[:, \"PoolQC\"].fillna(\"No\")\n",
    "train.loc[:, \"PoolArea\"] = train.loc[:, \"PoolArea\"].fillna(0)\n",
    "# SaleCondition : NA most likely means normal sale\n",
    "train.loc[:, \"SaleCondition\"] = train.loc[:, \"SaleCondition\"].fillna(\"Normal\")\n",
    "# ScreenPorch : NA most likely means no screen porch\n",
    "train.loc[:, \"ScreenPorch\"] = train.loc[:, \"ScreenPorch\"].fillna(0)\n",
    "# TotRmsAbvGrd : NA most likely means 0\n",
    "train.loc[:, \"TotRmsAbvGrd\"] = train.loc[:, \"TotRmsAbvGrd\"].fillna(0)\n",
    "# Utilities : NA most likely means all public utilities\n",
    "train.loc[:, \"Utilities\"] = train.loc[:, \"Utilities\"].fillna(\"AllPub\")\n",
    "# WoodDeckSF : NA most likely means no wood deck\n",
    "train.loc[:, \"WoodDeckSF\"] = train.loc[:, \"WoodDeckSF\"].fillna(0)"
   ]
  },
  {
   "cell_type": "code",
   "execution_count": null,
   "id": "4663ead9",
   "metadata": {},
   "outputs": [],
   "source": [
    "0.14237876112612144"
   ]
  }
 ],
 "metadata": {
  "kernelspec": {
   "display_name": "Python 3 (ipykernel)",
   "language": "python",
   "name": "python3"
  },
  "language_info": {
   "codemirror_mode": {
    "name": "ipython",
    "version": 3
   },
   "file_extension": ".py",
   "mimetype": "text/x-python",
   "name": "python",
   "nbconvert_exporter": "python",
   "pygments_lexer": "ipython3",
   "version": "3.11.4"
  }
 },
 "nbformat": 4,
 "nbformat_minor": 5
}
