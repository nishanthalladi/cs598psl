{
 "cells": [
  {
   "cell_type": "code",
   "execution_count": 47,
   "id": "79f2624d",
   "metadata": {},
   "outputs": [],
   "source": [
    "#Project 1\n",
    "import pandas as pd\n",
    "from sklearn.linear_model import Lasso, Ridge\n",
    "import numpy as np\n",
    "from sklearn.preprocessing import OneHotEncoder\n",
    "from sklearn.linear_model import RidgeCV\n",
    "from sklearn.impute import SimpleImputer\n",
    "\n",
    "# Read in data\n",
    "train = pd.Series({\n",
    "    \"train_1\": pd.read_csv(\"fold1/train.csv\"),\n",
    "    \"train_2\": pd.read_csv(\"fold2/train.csv\"),\n",
    "    \"train_3\": pd.read_csv(\"fold3/train.csv\"),\n",
    "    \"train_4\": pd.read_csv(\"fold4/train.csv\"),\n",
    "    \"train_5\": pd.read_csv(\"fold5/train.csv\"),\n",
    "    \"train_6\": pd.read_csv(\"fold6/train.csv\"),\n",
    "    \"train_7\": pd.read_csv(\"fold7/train.csv\"),\n",
    "    \"train_8\": pd.read_csv(\"fold8/train.csv\"),\n",
    "    \"train_9\": pd.read_csv(\"fold9/train.csv\"),\n",
    "    \"train_10\": pd.read_csv(\"fold10/train.csv\")\n",
    "    })\n",
    "\n",
    "train_x = pd.Series({\n",
    "    \"train_x1\": train[\"train_1\"].drop(columns = ['Sale_Price', 'PID']),\n",
    "    \"train_x2\": train[\"train_2\"].drop(columns = ['Sale_Price', 'PID']),\n",
    "    \"train_x3\": train[\"train_3\"].drop(columns = ['Sale_Price', 'PID']),\n",
    "    \"train_x4\": train[\"train_4\"].drop(columns = ['Sale_Price', 'PID']),\n",
    "    \"train_x5\": train[\"train_5\"].drop(columns = ['Sale_Price', 'PID']),\n",
    "    \"train_x6\": train[\"train_6\"].drop(columns = ['Sale_Price', 'PID']),\n",
    "    \"train_x7\": train[\"train_7\"].drop(columns = ['Sale_Price', 'PID']),\n",
    "    \"train_x8\": train[\"train_8\"].drop(columns = ['Sale_Price', 'PID']),\n",
    "    \"train_x9\": train[\"train_9\"].drop(columns = ['Sale_Price', 'PID']),\n",
    "    \"train_x10\": train[\"train_10\"].drop(columns = ['Sale_Price', 'PID']),\n",
    "    })\n",
    "\n",
    "train_y = pd.Series({\n",
    "    \"train_y1\": train[\"train_1\"]['Sale_Price'],\n",
    "    \"train_y2\": train[\"train_2\"]['Sale_Price'],\n",
    "    \"train_y3\": train[\"train_3\"]['Sale_Price'],\n",
    "    \"train_y4\": train[\"train_4\"]['Sale_Price'],\n",
    "    \"train_y5\": train[\"train_5\"]['Sale_Price'],\n",
    "    \"train_y6\": train[\"train_6\"]['Sale_Price'],\n",
    "    \"train_y7\": train[\"train_7\"]['Sale_Price'],\n",
    "    \"train_y8\": train[\"train_8\"]['Sale_Price'],\n",
    "    \"train_y9\": train[\"train_9\"]['Sale_Price'],\n",
    "    \"train_y10\": train[\"train_10\"]['Sale_Price'],\n",
    "    })\n",
    "\n",
    "test_x = pd.Series({\n",
    "    \"test_x1\": pd.read_csv(\"fold1/test.csv\").drop(columns = ['PID']),\n",
    "    \"test_x2\": pd.read_csv(\"fold2/test.csv\").drop(columns = ['PID']),\n",
    "    \"test_x3\": pd.read_csv(\"fold3/test.csv\").drop(columns = ['PID']),\n",
    "    \"test_x4\": pd.read_csv(\"fold4/test.csv\").drop(columns = ['PID']),\n",
    "    \"test_x5\": pd.read_csv(\"fold5/test.csv\").drop(columns = ['PID']),\n",
    "    \"test_x6\": pd.read_csv(\"fold6/test.csv\").drop(columns = ['PID']),\n",
    "    \"test_x7\": pd.read_csv(\"fold7/test.csv\").drop(columns = ['PID']),\n",
    "    \"test_x8\": pd.read_csv(\"fold8/test.csv\").drop(columns = ['PID']),\n",
    "    \"test_x9\": pd.read_csv(\"fold9/test.csv\").drop(columns = ['PID']),\n",
    "    \"test_x10\": pd.read_csv(\"fold10/test.csv\").drop(columns = ['PID'])\n",
    "    })\n",
    "\n",
    "test_y = pd.Series({\n",
    "    \"test_y1\": pd.read_csv(\"fold1/test_y.csv\")['Sale_Price'],\n",
    "    \"test_y2\": pd.read_csv(\"fold2/test_y.csv\")['Sale_Price'],\n",
    "    \"test_y3\": pd.read_csv(\"fold3/test_y.csv\")['Sale_Price'],\n",
    "    \"test_y4\": pd.read_csv(\"fold4/test_y.csv\")['Sale_Price'],\n",
    "    \"test_y5\": pd.read_csv(\"fold5/test_y.csv\")['Sale_Price'],\n",
    "    \"test_y6\": pd.read_csv(\"fold6/test_y.csv\")['Sale_Price'],\n",
    "    \"test_y7\": pd.read_csv(\"fold7/test_y.csv\")['Sale_Price'],\n",
    "    \"test_y8\": pd.read_csv(\"fold8/test_y.csv\")['Sale_Price'],\n",
    "    \"test_y9\": pd.read_csv(\"fold9/test_y.csv\")['Sale_Price'],\n",
    "    \"test_y10\": pd.read_csv(\"fold10/test_y.csv\")['Sale_Price']\n",
    "    })"
   ]
  },
  {
   "cell_type": "markdown",
   "id": "d41828f6-0a39-4a8d-bbb4-41051851a1d2",
   "metadata": {},
   "source": [
    "---"
   ]
  },
  {
   "cell_type": "code",
   "execution_count": 44,
   "id": "aa0712cf",
   "metadata": {},
   "outputs": [],
   "source": [
    "# encode train and fit encoder to train, then use fitted encoder to encode test\n",
    "for i in range(10):\n",
    "    enc = OneHotEncoder(handle_unknown='ignore')\n",
    "    train_x[i] = enc.fit_transform(train_x[i])\n",
    "    test_x[i] = enc.transform(test_x[i])\n",
    "\n",
    "    train_y[i] = np.log(train_y[i])"
   ]
  },
  {
   "cell_type": "code",
   "execution_count": 31,
   "id": "60838225",
   "metadata": {},
   "outputs": [],
   "source": [
    "train_x_arr = train_x.to_numpy()\n",
    "train_y_arr = train_y.to_numpy()\n",
    "test_x_arr = test_x.to_numpy()\n",
    "test_y_arr = test_y.to_numpy()"
   ]
  },
  {
   "cell_type": "code",
   "execution_count": 43,
   "id": "8e8f53da",
   "metadata": {},
   "outputs": [],
   "source": [
    "# TODO remove columns if we want"
   ]
  },
  {
   "cell_type": "markdown",
   "id": "76c8bdd7-2be7-4fcf-8f03-fa72f64e4632",
   "metadata": {},
   "source": [
    "---"
   ]
  },
  {
   "cell_type": "code",
   "execution_count": 48,
   "id": "151bf46d-7290-45d8-ba27-4378112c1d1f",
   "metadata": {},
   "outputs": [],
   "source": [
    "train_x_simple = train_x[4]\n",
    "train_y_simple = train_x[4]\n",
    "test_x_simple = train_x[4]\n",
    "test_y_simple = train_x[4]"
   ]
  },
  {
   "cell_type": "code",
   "execution_count": 32,
   "id": "aca4b051",
   "metadata": {},
   "outputs": [],
   "source": [
    "def runRidge(train_x, train_y, test_x):\n",
    "    rdg = RidgeCV()\n",
    "    rdg.fit(train_X, train_y)\n",
    "    rdg.score(train_X, train_y)\n",
    "    return rdg.predict(test_X)"
   ]
  },
  {
   "cell_type": "code",
   "execution_count": 33,
   "id": "a692921a",
   "metadata": {},
   "outputs": [],
   "source": [
    "def log_RMSE(pred, actual):\n",
    "    return np.mean((pred - np.log(actual))**2) ** .5"
   ]
  },
  {
   "cell_type": "code",
   "execution_count": 34,
   "id": "29ac54c5",
   "metadata": {},
   "outputs": [
    {
     "ename": "IndexingError",
     "evalue": "Too many indexers",
     "output_type": "error",
     "traceback": [
      "\u001b[0;31m---------------------------------------------------------------------------\u001b[0m",
      "\u001b[0;31mIndexingError\u001b[0m                             Traceback (most recent call last)",
      "\u001b[0;32m/var/folders/rq/tkmv0vx10nn5pf21zrrdkvgc0000gp/T/ipykernel_45726/3835846114.py\u001b[0m in \u001b[0;36m<module>\u001b[0;34m\u001b[0m\n\u001b[1;32m      1\u001b[0m \u001b[0;31m# Alley : data description says NA means \"no alley access\"\u001b[0m\u001b[0;34m\u001b[0m\u001b[0;34m\u001b[0m\u001b[0m\n\u001b[0;32m----> 2\u001b[0;31m \u001b[0mtrain\u001b[0m\u001b[0;34m.\u001b[0m\u001b[0mloc\u001b[0m\u001b[0;34m[\u001b[0m\u001b[0;34m:\u001b[0m\u001b[0;34m,\u001b[0m \u001b[0;34m\"Alley\"\u001b[0m\u001b[0;34m]\u001b[0m \u001b[0;34m=\u001b[0m \u001b[0mtrain\u001b[0m\u001b[0;34m.\u001b[0m\u001b[0mloc\u001b[0m\u001b[0;34m[\u001b[0m\u001b[0;34m:\u001b[0m\u001b[0;34m,\u001b[0m \u001b[0;34m\"Alley\"\u001b[0m\u001b[0;34m]\u001b[0m\u001b[0;34m.\u001b[0m\u001b[0mfillna\u001b[0m\u001b[0;34m(\u001b[0m\u001b[0;34m\"None\"\u001b[0m\u001b[0;34m)\u001b[0m\u001b[0;34m\u001b[0m\u001b[0;34m\u001b[0m\u001b[0m\n\u001b[0m\u001b[1;32m      3\u001b[0m \u001b[0;31m# BedroomAbvGr : NA most likely means 0\u001b[0m\u001b[0;34m\u001b[0m\u001b[0;34m\u001b[0m\u001b[0m\n\u001b[1;32m      4\u001b[0m \u001b[0mtrain\u001b[0m\u001b[0;34m.\u001b[0m\u001b[0mloc\u001b[0m\u001b[0;34m[\u001b[0m\u001b[0;34m:\u001b[0m\u001b[0;34m,\u001b[0m \u001b[0;34m\"BedroomAbvGr\"\u001b[0m\u001b[0;34m]\u001b[0m \u001b[0;34m=\u001b[0m \u001b[0mtrain\u001b[0m\u001b[0;34m.\u001b[0m\u001b[0mloc\u001b[0m\u001b[0;34m[\u001b[0m\u001b[0;34m:\u001b[0m\u001b[0;34m,\u001b[0m \u001b[0;34m\"BedroomAbvGr\"\u001b[0m\u001b[0;34m]\u001b[0m\u001b[0;34m.\u001b[0m\u001b[0mfillna\u001b[0m\u001b[0;34m(\u001b[0m\u001b[0;36m0\u001b[0m\u001b[0;34m)\u001b[0m\u001b[0;34m\u001b[0m\u001b[0;34m\u001b[0m\u001b[0m\n\u001b[1;32m      5\u001b[0m \u001b[0;31m# BsmtQual etc : data description says NA for basement features is \"no basement\"\u001b[0m\u001b[0;34m\u001b[0m\u001b[0;34m\u001b[0m\u001b[0m\n",
      "\u001b[0;32m~/opt/anaconda3/lib/python3.9/site-packages/pandas/core/indexing.py\u001b[0m in \u001b[0;36m__getitem__\u001b[0;34m(self, key)\u001b[0m\n\u001b[1;32m    959\u001b[0m             \u001b[0;32mif\u001b[0m \u001b[0mself\u001b[0m\u001b[0;34m.\u001b[0m\u001b[0m_is_scalar_access\u001b[0m\u001b[0;34m(\u001b[0m\u001b[0mkey\u001b[0m\u001b[0;34m)\u001b[0m\u001b[0;34m:\u001b[0m\u001b[0;34m\u001b[0m\u001b[0;34m\u001b[0m\u001b[0m\n\u001b[1;32m    960\u001b[0m                 \u001b[0;32mreturn\u001b[0m \u001b[0mself\u001b[0m\u001b[0;34m.\u001b[0m\u001b[0mobj\u001b[0m\u001b[0;34m.\u001b[0m\u001b[0m_get_value\u001b[0m\u001b[0;34m(\u001b[0m\u001b[0;34m*\u001b[0m\u001b[0mkey\u001b[0m\u001b[0;34m,\u001b[0m \u001b[0mtakeable\u001b[0m\u001b[0;34m=\u001b[0m\u001b[0mself\u001b[0m\u001b[0;34m.\u001b[0m\u001b[0m_takeable\u001b[0m\u001b[0;34m)\u001b[0m\u001b[0;34m\u001b[0m\u001b[0;34m\u001b[0m\u001b[0m\n\u001b[0;32m--> 961\u001b[0;31m             \u001b[0;32mreturn\u001b[0m \u001b[0mself\u001b[0m\u001b[0;34m.\u001b[0m\u001b[0m_getitem_tuple\u001b[0m\u001b[0;34m(\u001b[0m\u001b[0mkey\u001b[0m\u001b[0;34m)\u001b[0m\u001b[0;34m\u001b[0m\u001b[0;34m\u001b[0m\u001b[0m\n\u001b[0m\u001b[1;32m    962\u001b[0m         \u001b[0;32melse\u001b[0m\u001b[0;34m:\u001b[0m\u001b[0;34m\u001b[0m\u001b[0;34m\u001b[0m\u001b[0m\n\u001b[1;32m    963\u001b[0m             \u001b[0;31m# we by definition only have the 0th axis\u001b[0m\u001b[0;34m\u001b[0m\u001b[0;34m\u001b[0m\u001b[0m\n",
      "\u001b[0;32m~/opt/anaconda3/lib/python3.9/site-packages/pandas/core/indexing.py\u001b[0m in \u001b[0;36m_getitem_tuple\u001b[0;34m(self, tup)\u001b[0m\n\u001b[1;32m   1141\u001b[0m \u001b[0;34m\u001b[0m\u001b[0m\n\u001b[1;32m   1142\u001b[0m         \u001b[0;31m# no multi-index, so validate all of the indexers\u001b[0m\u001b[0;34m\u001b[0m\u001b[0;34m\u001b[0m\u001b[0m\n\u001b[0;32m-> 1143\u001b[0;31m         \u001b[0mtup\u001b[0m \u001b[0;34m=\u001b[0m \u001b[0mself\u001b[0m\u001b[0;34m.\u001b[0m\u001b[0m_validate_tuple_indexer\u001b[0m\u001b[0;34m(\u001b[0m\u001b[0mtup\u001b[0m\u001b[0;34m)\u001b[0m\u001b[0;34m\u001b[0m\u001b[0;34m\u001b[0m\u001b[0m\n\u001b[0m\u001b[1;32m   1144\u001b[0m \u001b[0;34m\u001b[0m\u001b[0m\n\u001b[1;32m   1145\u001b[0m         \u001b[0;31m# ugly hack for GH #836\u001b[0m\u001b[0;34m\u001b[0m\u001b[0;34m\u001b[0m\u001b[0m\n",
      "\u001b[0;32m~/opt/anaconda3/lib/python3.9/site-packages/pandas/core/indexing.py\u001b[0m in \u001b[0;36m_validate_tuple_indexer\u001b[0;34m(self, key)\u001b[0m\n\u001b[1;32m    763\u001b[0m         \u001b[0mCheck\u001b[0m \u001b[0mthe\u001b[0m \u001b[0mkey\u001b[0m \u001b[0;32mfor\u001b[0m \u001b[0mvalid\u001b[0m \u001b[0mkeys\u001b[0m \u001b[0macross\u001b[0m \u001b[0mmy\u001b[0m \u001b[0mindexer\u001b[0m\u001b[0;34m.\u001b[0m\u001b[0;34m\u001b[0m\u001b[0;34m\u001b[0m\u001b[0m\n\u001b[1;32m    764\u001b[0m         \"\"\"\n\u001b[0;32m--> 765\u001b[0;31m         \u001b[0mkey\u001b[0m \u001b[0;34m=\u001b[0m \u001b[0mself\u001b[0m\u001b[0;34m.\u001b[0m\u001b[0m_validate_key_length\u001b[0m\u001b[0;34m(\u001b[0m\u001b[0mkey\u001b[0m\u001b[0;34m)\u001b[0m\u001b[0;34m\u001b[0m\u001b[0;34m\u001b[0m\u001b[0m\n\u001b[0m\u001b[1;32m    766\u001b[0m         \u001b[0mkey\u001b[0m \u001b[0;34m=\u001b[0m \u001b[0mself\u001b[0m\u001b[0;34m.\u001b[0m\u001b[0m_expand_ellipsis\u001b[0m\u001b[0;34m(\u001b[0m\u001b[0mkey\u001b[0m\u001b[0;34m)\u001b[0m\u001b[0;34m\u001b[0m\u001b[0;34m\u001b[0m\u001b[0m\n\u001b[1;32m    767\u001b[0m         \u001b[0;32mfor\u001b[0m \u001b[0mi\u001b[0m\u001b[0;34m,\u001b[0m \u001b[0mk\u001b[0m \u001b[0;32min\u001b[0m \u001b[0menumerate\u001b[0m\u001b[0;34m(\u001b[0m\u001b[0mkey\u001b[0m\u001b[0;34m)\u001b[0m\u001b[0;34m:\u001b[0m\u001b[0;34m\u001b[0m\u001b[0;34m\u001b[0m\u001b[0m\n",
      "\u001b[0;32m~/opt/anaconda3/lib/python3.9/site-packages/pandas/core/indexing.py\u001b[0m in \u001b[0;36m_validate_key_length\u001b[0;34m(self, key)\u001b[0m\n\u001b[1;32m    810\u001b[0m                     \u001b[0;32mraise\u001b[0m \u001b[0mIndexingError\u001b[0m\u001b[0;34m(\u001b[0m\u001b[0m_one_ellipsis_message\u001b[0m\u001b[0;34m)\u001b[0m\u001b[0;34m\u001b[0m\u001b[0;34m\u001b[0m\u001b[0m\n\u001b[1;32m    811\u001b[0m                 \u001b[0;32mreturn\u001b[0m \u001b[0mself\u001b[0m\u001b[0;34m.\u001b[0m\u001b[0m_validate_key_length\u001b[0m\u001b[0;34m(\u001b[0m\u001b[0mkey\u001b[0m\u001b[0;34m)\u001b[0m\u001b[0;34m\u001b[0m\u001b[0;34m\u001b[0m\u001b[0m\n\u001b[0;32m--> 812\u001b[0;31m             \u001b[0;32mraise\u001b[0m \u001b[0mIndexingError\u001b[0m\u001b[0;34m(\u001b[0m\u001b[0;34m\"Too many indexers\"\u001b[0m\u001b[0;34m)\u001b[0m\u001b[0;34m\u001b[0m\u001b[0;34m\u001b[0m\u001b[0m\n\u001b[0m\u001b[1;32m    813\u001b[0m         \u001b[0;32mreturn\u001b[0m \u001b[0mkey\u001b[0m\u001b[0;34m\u001b[0m\u001b[0;34m\u001b[0m\u001b[0m\n\u001b[1;32m    814\u001b[0m \u001b[0;34m\u001b[0m\u001b[0m\n",
      "\u001b[0;31mIndexingError\u001b[0m: Too many indexers"
     ]
    }
   ],
   "source": [
    "# Alley : data description says NA means \"no alley access\"\n",
    "train.loc[:, \"Alley\"] = train.loc[:, \"Alley\"].fillna(\"None\")\n",
    "# BedroomAbvGr : NA most likely means 0\n",
    "train.loc[:, \"BedroomAbvGr\"] = train.loc[:, \"BedroomAbvGr\"].fillna(0)\n",
    "# BsmtQual etc : data description says NA for basement features is \"no basement\"\n",
    "train.loc[:, \"BsmtQual\"] = train.loc[:, \"BsmtQual\"].fillna(\"No\")\n",
    "train.loc[:, \"BsmtCond\"] = train.loc[:, \"BsmtCond\"].fillna(\"No\")\n",
    "train.loc[:, \"BsmtExposure\"] = train.loc[:, \"BsmtExposure\"].fillna(\"No\")\n",
    "train.loc[:, \"BsmtFinType1\"] = train.loc[:, \"BsmtFinType1\"].fillna(\"No\")\n",
    "train.loc[:, \"BsmtFinType2\"] = train.loc[:, \"BsmtFinType2\"].fillna(\"No\")\n",
    "train.loc[:, \"BsmtFullBath\"] = train.loc[:, \"BsmtFullBath\"].fillna(0)\n",
    "train.loc[:, \"BsmtHalfBath\"] = train.loc[:, \"BsmtHalfBath\"].fillna(0)\n",
    "train.loc[:, \"BsmtUnfSF\"] = train.loc[:, \"BsmtUnfSF\"].fillna(0)\n",
    "# CentralAir : NA most likely means No\n",
    "train.loc[:, \"CentralAir\"] = train.loc[:, \"CentralAir\"].fillna(\"N\")\n",
    "# Condition : NA most likely means Normal\n",
    "train.loc[:, \"Condition1\"] = train.loc[:, \"Condition1\"].fillna(\"Norm\")\n",
    "train.loc[:, \"Condition2\"] = train.loc[:, \"Condition2\"].fillna(\"Norm\")\n",
    "# EnclosedPorch : NA most likely means no enclosed porch\n",
    "train.loc[:, \"EnclosedPorch\"] = train.loc[:, \"EnclosedPorch\"].fillna(0)\n",
    "# External stuff : NA most likely means average\n",
    "train.loc[:, \"ExterCond\"] = train.loc[:, \"ExterCond\"].fillna(\"TA\")\n",
    "train.loc[:, \"ExterQual\"] = train.loc[:, \"ExterQual\"].fillna(\"TA\")\n",
    "# Fence : data description says NA means \"no fence\"\n",
    "train.loc[:, \"Fence\"] = train.loc[:, \"Fence\"].fillna(\"No\")\n",
    "# FireplaceQu : data description says NA means \"no fireplace\"\n",
    "train.loc[:, \"FireplaceQu\"] = train.loc[:, \"FireplaceQu\"].fillna(\"No\")\n",
    "train.loc[:, \"Fireplaces\"] = train.loc[:, \"Fireplaces\"].fillna(0)\n",
    "# Functional : data description says NA means typical\n",
    "train.loc[:, \"Functional\"] = train.loc[:, \"Functional\"].fillna(\"Typ\")\n",
    "# GarageType etc : data description says NA for garage features is \"no garage\"\n",
    "train.loc[:, \"GarageType\"] = train.loc[:, \"GarageType\"].fillna(\"No\")\n",
    "train.loc[:, \"GarageFinish\"] = train.loc[:, \"GarageFinish\"].fillna(\"No\")\n",
    "train.loc[:, \"GarageQual\"] = train.loc[:, \"GarageQual\"].fillna(\"No\")\n",
    "train.loc[:, \"GarageCond\"] = train.loc[:, \"GarageCond\"].fillna(\"No\")\n",
    "train.loc[:, \"GarageArea\"] = train.loc[:, \"GarageArea\"].fillna(0)\n",
    "train.loc[:, \"GarageCars\"] = train.loc[:, \"GarageCars\"].fillna(0)\n",
    "# HalfBath : NA most likely means no half baths above grade\n",
    "train.loc[:, \"HalfBath\"] = train.loc[:, \"HalfBath\"].fillna(0)\n",
    "# HeatingQC : NA most likely means typical\n",
    "train.loc[:, \"HeatingQC\"] = train.loc[:, \"HeatingQC\"].fillna(\"TA\")\n",
    "# KitchenAbvGr : NA most likely means 0\n",
    "train.loc[:, \"KitchenAbvGr\"] = train.loc[:, \"KitchenAbvGr\"].fillna(0)\n",
    "# KitchenQual : NA most likely means typical\n",
    "train.loc[:, \"KitchenQual\"] = train.loc[:, \"KitchenQual\"].fillna(\"TA\")\n",
    "# LotFrontage : NA most likely means no lot frontage\n",
    "train.loc[:, \"LotFrontage\"] = train.loc[:, \"LotFrontage\"].fillna(0)\n",
    "# LotShape : NA most likely means regular\n",
    "train.loc[:, \"LotShape\"] = train.loc[:, \"LotShape\"].fillna(\"Reg\")\n",
    "# MasVnrType : NA most likely means no veneer\n",
    "train.loc[:, \"MasVnrType\"] = train.loc[:, \"MasVnrType\"].fillna(\"None\")\n",
    "train.loc[:, \"MasVnrArea\"] = train.loc[:, \"MasVnrArea\"].fillna(0)\n",
    "# MiscFeature : data description says NA means \"no misc feature\"\n",
    "train.loc[:, \"MiscFeature\"] = train.loc[:, \"MiscFeature\"].fillna(\"No\")\n",
    "train.loc[:, \"MiscVal\"] = train.loc[:, \"MiscVal\"].fillna(0)\n",
    "# OpenPorchSF : NA most likely means no open porch\n",
    "train.loc[:, \"OpenPorchSF\"] = train.loc[:, \"OpenPorchSF\"].fillna(0)\n",
    "# PavedDrive : NA most likely means not paved\n",
    "train.loc[:, \"PavedDrive\"] = train.loc[:, \"PavedDrive\"].fillna(\"N\")\n",
    "# PoolQC : data description says NA means \"no pool\"\n",
    "train.loc[:, \"PoolQC\"] = train.loc[:, \"PoolQC\"].fillna(\"No\")\n",
    "train.loc[:, \"PoolArea\"] = train.loc[:, \"PoolArea\"].fillna(0)\n",
    "# SaleCondition : NA most likely means normal sale\n",
    "train.loc[:, \"SaleCondition\"] = train.loc[:, \"SaleCondition\"].fillna(\"Normal\")\n",
    "# ScreenPorch : NA most likely means no screen porch\n",
    "train.loc[:, \"ScreenPorch\"] = train.loc[:, \"ScreenPorch\"].fillna(0)\n",
    "# TotRmsAbvGrd : NA most likely means 0\n",
    "train.loc[:, \"TotRmsAbvGrd\"] = train.loc[:, \"TotRmsAbvGrd\"].fillna(0)\n",
    "# Utilities : NA most likely means all public utilities\n",
    "train.loc[:, \"Utilities\"] = train.loc[:, \"Utilities\"].fillna(\"AllPub\")\n",
    "# WoodDeckSF : NA most likely means no wood deck\n",
    "train.loc[:, \"WoodDeckSF\"] = train.loc[:, \"WoodDeckSF\"].fillna(0)"
   ]
  },
  {
   "cell_type": "code",
   "execution_count": null,
   "id": "4663ead9",
   "metadata": {},
   "outputs": [],
   "source": [
    "0.14237876112612144"
   ]
  }
 ],
 "metadata": {
  "kernelspec": {
   "display_name": "Python 3 (ipykernel)",
   "language": "python",
   "name": "python3"
  },
  "language_info": {
   "codemirror_mode": {
    "name": "ipython",
    "version": 3
   },
   "file_extension": ".py",
   "mimetype": "text/x-python",
   "name": "python",
   "nbconvert_exporter": "python",
   "pygments_lexer": "ipython3",
   "version": "3.9.13"
  }
 },
 "nbformat": 4,
 "nbformat_minor": 5
}
